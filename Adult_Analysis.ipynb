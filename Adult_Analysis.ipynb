{
 "cells": [
  {
   "cell_type": "markdown",
   "metadata": {},
   "source": [
    "Importing the required libraries"
   ]
  },
  {
   "cell_type": "code",
   "execution_count": 1,
   "metadata": {},
   "outputs": [],
   "source": [
    "#### Importing packages #####\n",
    "import statsmodels.formula.api as smf\n",
    "import seaborn as sns\n",
    "import numpy as np\n",
    "import pandas as pd\n",
    "import statsmodels.api as sm\n",
    "import statsmodels.formula.api as smf\n",
    "import matplotlib.pyplot as plt\n",
    "from sklearn.linear_model import LogisticRegression\n",
    "import math"
   ]
  },
  {
   "cell_type": "markdown",
   "metadata": {},
   "source": [
    "Importing the data. While importing the data, the data has '?' which is converted into NAs"
   ]
  },
  {
   "cell_type": "code",
   "execution_count": 3,
   "metadata": {},
   "outputs": [
    {
     "name": "stderr",
     "output_type": "stream",
     "text": [
      "C:\\ProgramData\\Anaconda3\\lib\\site-packages\\ipykernel_launcher.py:1: ParserWarning: Falling back to the 'python' engine because the 'c' engine does not support regex separators (separators > 1 char and different from '\\s+' are interpreted as regex); you can avoid this warning by specifying engine='python'.\n",
      "  \"\"\"Entry point for launching an IPython kernel.\n"
     ]
    }
   ],
   "source": [
    "data = pd.read_table('adult.data', sep=r'\\s*,\\s*' ,na_valuesa=[a\"?\"], header =None)"
   ]
  },
  {
   "cell_type": "markdown",
   "metadata": {},
   "source": [
    "Assigning column names"
   ]
  },
  {
   "cell_type": "code",
   "execution_count": 4,
   "metadata": {},
   "outputs": [],
   "source": [
    "data.columns=[ \"Age\", \"Workclass\", \"fnlwgt\", \"Education\", \"Education-Num\", \"Martial Status\",\n",
    "        \"Occupation\", \"Relationship\", \"Race\", \"Sex\", \"Capital Gain\", \"Capital Loss\",\n",
    "        \"Hours per week\", \"Country\", \"Target\"]"
   ]
  },
  {
   "cell_type": "code",
   "execution_count": 5,
   "metadata": {},
   "outputs": [
    {
     "data": {
      "text/html": [
       "<div>\n",
       "<style scoped>\n",
       "    .dataframe tbody tr th:only-of-type {\n",
       "        vertical-align: middle;\n",
       "    }\n",
       "\n",
       "    .dataframe tbody tr th {\n",
       "        vertical-align: top;\n",
       "    }\n",
       "\n",
       "    .dataframe thead th {\n",
       "        text-align: right;\n",
       "    }\n",
       "</style>\n",
       "<table border=\"1\" class=\"dataframe\">\n",
       "  <thead>\n",
       "    <tr style=\"text-align: right;\">\n",
       "      <th></th>\n",
       "      <th>Age</th>\n",
       "      <th>Workclass</th>\n",
       "      <th>fnlwgt</th>\n",
       "      <th>Education</th>\n",
       "      <th>Education-Num</th>\n",
       "      <th>Martial Status</th>\n",
       "      <th>Occupation</th>\n",
       "      <th>Relationship</th>\n",
       "      <th>Race</th>\n",
       "      <th>Sex</th>\n",
       "      <th>Capital Gain</th>\n",
       "      <th>Capital Loss</th>\n",
       "      <th>Hours per week</th>\n",
       "      <th>Country</th>\n",
       "      <th>Target</th>\n",
       "    </tr>\n",
       "  </thead>\n",
       "  <tbody>\n",
       "    <tr>\n",
       "      <th>0</th>\n",
       "      <td>39</td>\n",
       "      <td>State-gov</td>\n",
       "      <td>77516</td>\n",
       "      <td>Bachelors</td>\n",
       "      <td>13</td>\n",
       "      <td>Never-married</td>\n",
       "      <td>Adm-clerical</td>\n",
       "      <td>Not-in-family</td>\n",
       "      <td>White</td>\n",
       "      <td>Male</td>\n",
       "      <td>2174</td>\n",
       "      <td>0</td>\n",
       "      <td>40</td>\n",
       "      <td>United-States</td>\n",
       "      <td>&lt;=50K</td>\n",
       "    </tr>\n",
       "    <tr>\n",
       "      <th>1</th>\n",
       "      <td>50</td>\n",
       "      <td>Self-emp-not-inc</td>\n",
       "      <td>83311</td>\n",
       "      <td>Bachelors</td>\n",
       "      <td>13</td>\n",
       "      <td>Married-civ-spouse</td>\n",
       "      <td>Exec-managerial</td>\n",
       "      <td>Husband</td>\n",
       "      <td>White</td>\n",
       "      <td>Male</td>\n",
       "      <td>0</td>\n",
       "      <td>0</td>\n",
       "      <td>13</td>\n",
       "      <td>United-States</td>\n",
       "      <td>&lt;=50K</td>\n",
       "    </tr>\n",
       "    <tr>\n",
       "      <th>2</th>\n",
       "      <td>38</td>\n",
       "      <td>Private</td>\n",
       "      <td>215646</td>\n",
       "      <td>HS-grad</td>\n",
       "      <td>9</td>\n",
       "      <td>Divorced</td>\n",
       "      <td>Handlers-cleaners</td>\n",
       "      <td>Not-in-family</td>\n",
       "      <td>White</td>\n",
       "      <td>Male</td>\n",
       "      <td>0</td>\n",
       "      <td>0</td>\n",
       "      <td>40</td>\n",
       "      <td>United-States</td>\n",
       "      <td>&lt;=50K</td>\n",
       "    </tr>\n",
       "    <tr>\n",
       "      <th>3</th>\n",
       "      <td>53</td>\n",
       "      <td>Private</td>\n",
       "      <td>234721</td>\n",
       "      <td>11th</td>\n",
       "      <td>7</td>\n",
       "      <td>Married-civ-spouse</td>\n",
       "      <td>Handlers-cleaners</td>\n",
       "      <td>Husband</td>\n",
       "      <td>Black</td>\n",
       "      <td>Male</td>\n",
       "      <td>0</td>\n",
       "      <td>0</td>\n",
       "      <td>40</td>\n",
       "      <td>United-States</td>\n",
       "      <td>&lt;=50K</td>\n",
       "    </tr>\n",
       "    <tr>\n",
       "      <th>4</th>\n",
       "      <td>28</td>\n",
       "      <td>Private</td>\n",
       "      <td>338409</td>\n",
       "      <td>Bachelors</td>\n",
       "      <td>13</td>\n",
       "      <td>Married-civ-spouse</td>\n",
       "      <td>Prof-specialty</td>\n",
       "      <td>Wife</td>\n",
       "      <td>Black</td>\n",
       "      <td>Female</td>\n",
       "      <td>0</td>\n",
       "      <td>0</td>\n",
       "      <td>40</td>\n",
       "      <td>Cuba</td>\n",
       "      <td>&lt;=50K</td>\n",
       "    </tr>\n",
       "  </tbody>\n",
       "</table>\n",
       "</div>"
      ],
      "text/plain": [
       "   Age         Workclass  fnlwgt  Education  Education-Num  \\\n",
       "0   39         State-gov   77516  Bachelors             13   \n",
       "1   50  Self-emp-not-inc   83311  Bachelors             13   \n",
       "2   38           Private  215646    HS-grad              9   \n",
       "3   53           Private  234721       11th              7   \n",
       "4   28           Private  338409  Bachelors             13   \n",
       "\n",
       "       Martial Status         Occupation   Relationship   Race     Sex  \\\n",
       "0       Never-married       Adm-clerical  Not-in-family  White    Male   \n",
       "1  Married-civ-spouse    Exec-managerial        Husband  White    Male   \n",
       "2            Divorced  Handlers-cleaners  Not-in-family  White    Male   \n",
       "3  Married-civ-spouse  Handlers-cleaners        Husband  Black    Male   \n",
       "4  Married-civ-spouse     Prof-specialty           Wife  Black  Female   \n",
       "\n",
       "   Capital Gain  Capital Loss  Hours per week        Country Target  \n",
       "0          2174             0              40  United-States  <=50K  \n",
       "1             0             0              13  United-States  <=50K  \n",
       "2             0             0              40  United-States  <=50K  \n",
       "3             0             0              40  United-States  <=50K  \n",
       "4             0             0              40           Cuba  <=50K  "
      ]
     },
     "execution_count": 5,
     "metadata": {},
     "output_type": "execute_result"
    }
   ],
   "source": [
    "data.head()"
   ]
  },
  {
   "cell_type": "markdown",
   "metadata": {},
   "source": [
    "NULL Data Checking\n",
    "Columns Workclass,Occupation and Country have null values. I have treated each of the column seperately below"
   ]
  },
  {
   "cell_type": "code",
   "execution_count": 6,
   "metadata": {},
   "outputs": [
    {
     "name": "stdout",
     "output_type": "stream",
     "text": [
      "<class 'pandas.core.frame.DataFrame'>\n",
      "RangeIndex: 32561 entries, 0 to 32560\n",
      "Data columns (total 15 columns):\n",
      "Age               32561 non-null int64\n",
      "Workclass         30725 non-null object\n",
      "fnlwgt            32561 non-null int64\n",
      "Education         32561 non-null object\n",
      "Education-Num     32561 non-null int64\n",
      "Martial Status    32561 non-null object\n",
      "Occupation        30718 non-null object\n",
      "Relationship      32561 non-null object\n",
      "Race              32561 non-null object\n",
      "Sex               32561 non-null object\n",
      "Capital Gain      32561 non-null int64\n",
      "Capital Loss      32561 non-null int64\n",
      "Hours per week    32561 non-null int64\n",
      "Country           31978 non-null object\n",
      "Target            32561 non-null object\n",
      "dtypes: int64(6), object(9)\n",
      "memory usage: 3.7+ MB\n"
     ]
    }
   ],
   "source": [
    "data.info()"
   ]
  },
  {
   "cell_type": "markdown",
   "metadata": {},
   "source": [
    "Looking at the data distribution, below are some data findings:\n",
    "1.Most of the data has poeple working in private firms\n",
    "2. Most of the people are HS-grad\n",
    "3. Most of the data is for United States native \n",
    "4. Since most it is for US native, the majority of data is for white race"
   ]
  },
  {
   "cell_type": "code",
   "execution_count": 7,
   "metadata": {
    "scrolled": true
   },
   "outputs": [
    {
     "data": {
      "image/png": "[encoded data removed]",
      "text/plain": [
       "<Figure size 1440x1080 with 15 Axes>"
      ]
     },
     "metadata": {},
     "output_type": "display_data"
    }
   ],
   "source": [
    "fig = plt.figure(figsize=(20,15))\n",
    "cols = 5\n",
    "rows = math.ceil(float(data.shape[1]) / cols)\n",
    "for i, column in enumerate(data.columns):\n",
    "    ax = fig.add_subplot(rows, cols, i + 1)\n",
    "    ax.set_title(column)\n",
    "    if data.dtypes[column] == np.object:\n",
    "        data[column].value_counts().plot(kind=\"bar\", axes=ax)\n",
    "    else:\n",
    "        data[column].hist(axes=ax)\n",
    "        plt.xticks(rotation=\"vertical\")\n",
    "plt.subplots_adjust(hspace=0.7, wspace=0.2)"
   ]
  },
  {
   "cell_type": "markdown",
   "metadata": {},
   "source": [
    "Correlation matrix for numerical columns"
   ]
  },
  {
   "cell_type": "code",
   "execution_count": 8,
   "metadata": {},
   "outputs": [
    {
     "data": {
      "image/png": "[encoded data removed]",
      "text/plain": [
       "<Figure size 432x288 with 2 Axes>"
      ]
     },
     "metadata": {},
     "output_type": "display_data"
    }
   ],
   "source": [
    "sns.heatmap(data.corr(),annot=True, cmap = 'coolwarm')\n",
    "plt.title('Correlation among the columns')\n",
    "plt.show()"
   ]
  },
  {
   "cell_type": "markdown",
   "metadata": {},
   "source": [
    "NULL DATA TREATMENT FOR WORKCLASS COLUMN\n",
    "Based on the columns, columns which might affect the distribution of Worclass are Race, Education,Age.\n",
    "But, on seeing the distribution, it is evident that the maximum frequency of workclass being private is consistent across race, education and age. Hence, I have filled the null value of workclass data with the majority"
   ]
  },
  {
   "cell_type": "code",
   "execution_count": 9,
   "metadata": {},
   "outputs": [
    {
     "data": {
      "image/png": "[encoded data removed]",
      "text/plain": [
       "<Figure size 1440x504 with 1 Axes>"
      ]
     },
     "metadata": {},
     "output_type": "display_data"
    },
    {
     "data": {
      "image/png": "[encoded data removed]",
      "text/plain": [
       "<Figure size 1440x504 with 1 Axes>"
      ]
     },
     "metadata": {},
     "output_type": "display_data"
    },
    {
     "data": {
      "image/png": "[encoded data removed]",
      "text/plain": [
       "<Figure size 1440x504 with 1 Axes>"
      ]
     },
     "metadata": {},
     "output_type": "display_data"
    }
   ],
   "source": [
    "bo = pd.DataFrame(data.groupby(['Race','Workclass'], as_index =False)['Target'].count())\n",
    "bo2=bo.groupby(\"Race\", as_index=False).head(5)\n",
    "pivot_df = bo2.pivot(index='Race', columns='Workclass', values='Target')\n",
    "pivot_df.plot.bar(stacked =True ,figsize=(20,7))\n",
    "plt.xlabel('Race')\n",
    "plt.ylabel('Number of instances of workclass')\n",
    "plt.show()\n",
    "#plt.subplot(2,1,1)\n",
    "\n",
    "\n",
    "bo = pd.DataFrame(data.groupby(['Education','Workclass'], as_index =False)['Target'].count())\n",
    "bo2=bo.groupby(\"Education\", as_index=False).head(5)\n",
    "pivot_df = bo2.pivot(index='Education', columns='Workclass', values='Target')\n",
    "pivot_df.plot.bar(stacked =True ,figsize=(20,7))\n",
    "plt.xlabel('Education')\n",
    "plt.ylabel('Number of instances of workclass')\n",
    "plt.show()\n",
    "#plt.subplot(2,1,2)\n",
    "\n",
    "bo = pd.DataFrame(data.groupby(['Age','Workclass'], as_index =False)['Target'].count())\n",
    "bo2=bo.groupby(\"Age\", as_index=False).head(5)\n",
    "pivot_df = bo2.pivot(index='Age', columns='Workclass', values='Target')\n",
    "pivot_df.plot.bar(stacked =True ,figsize=(20,7))\n",
    "plt.xlabel('Age')\n",
    "plt.ylabel('Number of instances of workclass')\n",
    "plt.show()\n",
    "\n"
   ]
  },
  {
   "cell_type": "markdown",
   "metadata": {},
   "source": [
    "NULL DATA TREATMENT FOR OCCUPATION COLUMN\n",
    "Looking at the distribution of occupation across age, education and race, it shows that occupation distribution is similar across race but varies across age and education. Hence for null data treatment of occupation, I have taken the mode of occupation at Age x Education level"
   ]
  },
  {
   "cell_type": "code",
   "execution_count": 10,
   "metadata": {},
   "outputs": [
    {
     "data": {
      "image/png": "[encoded data removed]",
      "text/plain": [
       "<Figure size 1440x504 with 1 Axes>"
      ]
     },
     "metadata": {},
     "output_type": "display_data"
    },
    {
     "data": {
      "image/png": "[encoded data removed]",
      "text/plain": [
       "<Figure size 1440x504 with 1 Axes>"
      ]
     },
     "metadata": {},
     "output_type": "display_data"
    },
    {
     "data": {
      "image/png": "[encoded data removed]",
      "text/plain": [
       "<Figure size 1440x504 with 1 Axes>"
      ]
     },
     "metadata": {},
     "output_type": "display_data"
    }
   ],
   "source": [
    "bo = pd.DataFrame(data.groupby(['Race','Occupation'], as_index =False)['Target'].count())\n",
    "bo2=bo.groupby(\"Race\", as_index=False).head(5)\n",
    "pivot_df = bo2.pivot(index='Race', columns='Occupation', values='Target')\n",
    "pivot_df.plot.bar(stacked =True ,figsize=(20,7))\n",
    "plt.xlabel('Race')\n",
    "plt.ylabel('Number of instances of workclass')\n",
    "plt.show()\n",
    "#plt.subplot(2,1,1)\n",
    "\n",
    "\n",
    "bo = pd.DataFrame(data.groupby(['Education','Occupation'], as_index =False)['Target'].count())\n",
    "bo2=bo.groupby(\"Education\", as_index=False).head(5)\n",
    "pivot_df = bo2.pivot(index='Education', columns='Occupation', values='Target')\n",
    "pivot_df.plot.bar(stacked =True ,figsize=(20,7))\n",
    "plt.xlabel('Education')\n",
    "plt.ylabel('Number of instances of workclass')\n",
    "plt.show()\n",
    "#plt.subplot(2,1,2)\n",
    "\n",
    "bo = pd.DataFrame(data.groupby(['Age','Occupation'], as_index =False)['Target'].count())\n",
    "bo2=bo.groupby(\"Age\", as_index=False).head(5)\n",
    "pivot_df = bo2.pivot(index='Age', columns='Occupation', values='Target')\n",
    "pivot_df.plot.bar(stacked =True ,figsize=(20,7))\n",
    "plt.xlabel('Age')\n",
    "plt.ylabel('Number of instances of workclass')\n",
    "plt.show()\n",
    "\n"
   ]
  },
  {
   "cell_type": "code",
   "execution_count": 11,
   "metadata": {},
   "outputs": [
    {
     "data": {
      "text/plain": [
       "Target\n",
       "<=50K    24720\n",
       ">50K      7841\n",
       "Name: Target, dtype: int64"
      ]
     },
     "execution_count": 11,
     "metadata": {},
     "output_type": "execute_result"
    }
   ],
   "source": [
    "\n",
    "data.groupby(['Target'])['Target'].count()\n"
   ]
  },
  {
   "cell_type": "markdown",
   "metadata": {},
   "source": [
    "Null data treatment for workclass column as explained above"
   ]
  },
  {
   "cell_type": "code",
   "execution_count": 12,
   "metadata": {},
   "outputs": [
    {
     "name": "stdout",
     "output_type": "stream",
     "text": [
      "<class 'pandas.core.frame.DataFrame'>\n",
      "RangeIndex: 32561 entries, 0 to 32560\n",
      "Data columns (total 15 columns):\n",
      "Age               32561 non-null int64\n",
      "Workclass         32561 non-null object\n",
      "fnlwgt            32561 non-null int64\n",
      "Education         32561 non-null object\n",
      "Education-Num     32561 non-null int64\n",
      "Martial Status    32561 non-null object\n",
      "Occupation        30718 non-null object\n",
      "Relationship      32561 non-null object\n",
      "Race              32561 non-null object\n",
      "Sex               32561 non-null object\n",
      "Capital Gain      32561 non-null int64\n",
      "Capital Loss      32561 non-null int64\n",
      "Hours per week    32561 non-null int64\n",
      "Country           31978 non-null object\n",
      "Target            32561 non-null object\n",
      "dtypes: int64(6), object(9)\n",
      "memory usage: 3.7+ MB\n"
     ]
    }
   ],
   "source": [
    "data['Workclass'].fillna(data['Workclass'].mode()[0], inplace=True)\n",
    "data.info()"
   ]
  },
  {
   "cell_type": "markdown",
   "metadata": {},
   "source": [
    "Null data treatment for occupation column as explained above"
   ]
  },
  {
   "cell_type": "code",
   "execution_count": 13,
   "metadata": {},
   "outputs": [],
   "source": [
    "m=pd.DataFrame(data.groupby(['Age','Education']).Occupation.apply(lambda x: x.mode()))\n",
    "m=m.rename(columns = {'Occupation':'occ_na'})\n",
    "m=m.rename(columns = {'':'num'})\n",
    "m.reset_index( inplace=True)\n",
    "m.columns =['Age','Education','nn','occ_na']\n",
    "m1=m[m.nn==0]"
   ]
  },
  {
   "cell_type": "code",
   "execution_count": 14,
   "metadata": {},
   "outputs": [
    {
     "data": {
      "text/plain": [
       "(32561, 17)"
      ]
     },
     "execution_count": 14,
     "metadata": {},
     "output_type": "execute_result"
    }
   ],
   "source": [
    "new= pd.merge(data,m1,on=['Age','Education'],how='outer')\n",
    "new.shape"
   ]
  },
  {
   "cell_type": "code",
   "execution_count": 15,
   "metadata": {},
   "outputs": [],
   "source": [
    "new['Occupation']= new['Occupation'].fillna(new.occ_na)"
   ]
  },
  {
   "cell_type": "code",
   "execution_count": 16,
   "metadata": {},
   "outputs": [],
   "source": [
    "new['Occupation'].fillna(new['Occupation'].mode()[0], inplace=True)"
   ]
  },
  {
   "cell_type": "code",
   "execution_count": 17,
   "metadata": {},
   "outputs": [
    {
     "name": "stdout",
     "output_type": "stream",
     "text": [
      "<class 'pandas.core.frame.DataFrame'>\n",
      "Int64Index: 32561 entries, 0 to 32560\n",
      "Data columns (total 17 columns):\n",
      "Age               32561 non-null int64\n",
      "Workclass         32561 non-null object\n",
      "fnlwgt            32561 non-null int64\n",
      "Education         32561 non-null object\n",
      "Education-Num     32561 non-null int64\n",
      "Martial Status    32561 non-null object\n",
      "Occupation        32561 non-null object\n",
      "Relationship      32561 non-null object\n",
      "Race              32561 non-null object\n",
      "Sex               32561 non-null object\n",
      "Capital Gain      32561 non-null int64\n",
      "Capital Loss      32561 non-null int64\n",
      "Hours per week    32561 non-null int64\n",
      "Country           31978 non-null object\n",
      "Target            32561 non-null object\n",
      "nn                32525 non-null float64\n",
      "occ_na            32525 non-null object\n",
      "dtypes: float64(1), int64(6), object(10)\n",
      "memory usage: 4.5+ MB\n"
     ]
    }
   ],
   "source": [
    "new.info()"
   ]
  },
  {
   "cell_type": "code",
   "execution_count": 18,
   "metadata": {},
   "outputs": [],
   "source": [
    "new =new.drop(['nn','occ_na'], axis=1)\n",
    "data=new"
   ]
  },
  {
   "cell_type": "markdown",
   "metadata": {},
   "source": [
    "NULL DATA TREATMENT FOR COUNTRY COLUMN. \n",
    "Since most of the data is of USA, I am filling the null value with USA. Also, since USA makes up majority of data, I have divided the data as US and Non US for dimensionality reduction"
   ]
  },
  {
   "cell_type": "code",
   "execution_count": 19,
   "metadata": {},
   "outputs": [],
   "source": [
    "data['Country']=data['Country'].fillna('United-States')"
   ]
  },
  {
   "cell_type": "code",
   "execution_count": 20,
   "metadata": {},
   "outputs": [],
   "source": [
    "data['Country']=data['Country'].replace('United-States',1)\n",
    "data.loc[data['Country'] !=1, 'Country'] = 0"
   ]
  },
  {
   "cell_type": "code",
   "execution_count": 21,
   "metadata": {},
   "outputs": [
    {
     "name": "stdout",
     "output_type": "stream",
     "text": [
      "<class 'pandas.core.frame.DataFrame'>\n",
      "Int64Index: 32561 entries, 0 to 32560\n",
      "Data columns (total 15 columns):\n",
      "Age               32561 non-null int64\n",
      "Workclass         32561 non-null object\n",
      "fnlwgt            32561 non-null int64\n",
      "Education         32561 non-null object\n",
      "Education-Num     32561 non-null int64\n",
      "Martial Status    32561 non-null object\n",
      "Occupation        32561 non-null object\n",
      "Relationship      32561 non-null object\n",
      "Race              32561 non-null object\n",
      "Sex               32561 non-null object\n",
      "Capital Gain      32561 non-null int64\n",
      "Capital Loss      32561 non-null int64\n",
      "Hours per week    32561 non-null int64\n",
      "Country           32561 non-null int64\n",
      "Target            32561 non-null object\n",
      "dtypes: int64(7), object(8)\n",
      "memory usage: 4.0+ MB\n"
     ]
    }
   ],
   "source": [
    "data.info()"
   ]
  },
  {
   "cell_type": "code",
   "execution_count": 22,
   "metadata": {},
   "outputs": [],
   "source": [
    "#!pip install --upgrade pip\n",
    "#!pip install imblearn  \n"
   ]
  },
  {
   "cell_type": "code",
   "execution_count": 23,
   "metadata": {},
   "outputs": [
    {
     "name": "stdout",
     "output_type": "stream",
     "text": [
      "Proportion of <=50k 0.7591904425539756\n",
      "Proportion of >50k 0.2408095574460244\n"
     ]
    }
   ],
   "source": [
    "print('Proportion of <=50k',len(data[data.Target =='<=50K'])/ len(data))\n",
    "print(\"Proportion of >50k\",len(data[data.Target =='>50K'])/ len(data))"
   ]
  },
  {
   "cell_type": "code",
   "execution_count": null,
   "metadata": {},
   "outputs": [],
   "source": [
    "The data is imbalanced. Hence this might skew the data. There are many ways such oversampling, undersampling and SMOTE. I prefer SMOTE over the others, since it reduces effect of overfitting in train data. Hence, below is the code for doing SMOTE analysis. But this increases the data size further. Given the time constraint, I am unable to run the models on such a big data. Hence, I have written the code for processing data as SMOTE but have not run here.\n",
    "\n",
    "from imblearn.over_sampling import SMOTE\n",
    "X_data = data.iloc[:,0:14]\n",
    "data_train_y = data.iloc[:,14]\n",
    "data_train_y=data_train_y.replace('>50K',0)\n",
    "data_train_y=data_train_y.replace('<=50K',1)\n",
    "x = pd.get_dummies(data=X_data, columns=['Workclass','Martial Status','Occupation','Relationship','Race','Sex'],prefix = ['Workclass','Martial Status','Occupation','Relationship','Race','Sex'], drop_first=True) \n",
    "X_data =x\n",
    "data_train_X=X_data.drop(['Education'], axis=1)\n",
    "columns = data_train_X.columns\n",
    "os = SMOTE(random_state=25)\n",
    "os_data_X,os_data_y=os.fit_sample(data_train_X,data_train_y)\n",
    "os_data_X = pd.DataFrame(data=os_data_X,columns=columns )\n",
    "os_data_y= pd.DataFrame(data=os_data_y,columns=[\"Target\"])\n",
    "# we can Check the numbers of our data\n",
    "print(\"length of oversampled data is \",len(os_data_X))\n",
    "print(\"Number of rows with salary >50\",len(os_data_y[os_data_y[\"Target\"]==0]))\n",
    "print(\"Number of rows with salary <=50\",len(os_data_y[os_data_y[\"Target\"]==1]))\n",
    "print(\"Proportion of Normal data in oversampled data is \",len(os_data_y[os_data_y[\"Target\"]==0])/len(os_data_X))\n",
    "print(\"Proportion of undersampled data in oversampled data is \",len(os_data_y[os_data_y[\"Target\"]==1])/len(os_data_X))\n",
    "X_data =os_data_X\n",
    "y_train=os_data_y"
   ]
  },
  {
   "cell_type": "markdown",
   "metadata": {},
   "source": [
    "Splitting the train data into explanatory and dependent variable"
   ]
  },
  {
   "cell_type": "code",
   "execution_count": 24,
   "metadata": {},
   "outputs": [],
   "source": [
    "X_data = data.iloc[:,0:14]\n",
    "y_train = data.iloc[:,14]\n"
   ]
  },
  {
   "cell_type": "markdown",
   "metadata": {},
   "source": [
    "Converting the categorical data into dummy variables"
   ]
  },
  {
   "cell_type": "code",
   "execution_count": 25,
   "metadata": {},
   "outputs": [],
   "source": [
    "x = pd.get_dummies(data=X_data, columns=['Workclass','Martial Status','Occupation','Relationship','Race','Sex'],prefix = ['Workclass','Martial Status','Occupation','Relationship','Race','Sex'], drop_first=True) \n",
    "X_data =x\n",
    "X_data=X_data.drop(['Education'], axis=1)"
   ]
  },
  {
   "cell_type": "markdown",
   "metadata": {},
   "source": [
    "Cleaning the data for test data in the similar way"
   ]
  },
  {
   "cell_type": "code",
   "execution_count": 26,
   "metadata": {},
   "outputs": [
    {
     "name": "stderr",
     "output_type": "stream",
     "text": [
      "C:\\ProgramData\\Anaconda3\\lib\\site-packages\\ipykernel_launcher.py:1: ParserWarning: Falling back to the 'python' engine because the 'c' engine does not support regex separators (separators > 1 char and different from '\\s+' are interpreted as regex); you can avoid this warning by specifying engine='python'.\n",
      "  \"\"\"Entry point for launching an IPython kernel.\n"
     ]
    }
   ],
   "source": [
    "test = pd.read_table('adult.test', sep=r'\\s*,\\s*' ,na_values=[\"?\"], header =None)"
   ]
  },
  {
   "cell_type": "code",
   "execution_count": 27,
   "metadata": {},
   "outputs": [],
   "source": [
    "test.columns=[ \"Age\", \"Workclass\", \"fnlwgt\", \"Education\", \"Education-Num\", \"Martial Status\",\n",
    "        \"Occupation\", \"Relationship\", \"Race\", \"Sex\", \"Capital Gain\", \"Capital Loss\",\n",
    "        \"Hours per week\", \"Country\", \"Target\"]"
   ]
  },
  {
   "cell_type": "code",
   "execution_count": 28,
   "metadata": {},
   "outputs": [
    {
     "name": "stdout",
     "output_type": "stream",
     "text": [
      "<class 'pandas.core.frame.DataFrame'>\n",
      "RangeIndex: 16281 entries, 0 to 16280\n",
      "Data columns (total 15 columns):\n",
      "Age               16281 non-null int64\n",
      "Workclass         15318 non-null object\n",
      "fnlwgt            16281 non-null int64\n",
      "Education         16281 non-null object\n",
      "Education-Num     16281 non-null int64\n",
      "Martial Status    16281 non-null object\n",
      "Occupation        15315 non-null object\n",
      "Relationship      16281 non-null object\n",
      "Race              16281 non-null object\n",
      "Sex               16281 non-null object\n",
      "Capital Gain      16281 non-null int64\n",
      "Capital Loss      16281 non-null int64\n",
      "Hours per week    16281 non-null int64\n",
      "Country           16007 non-null object\n",
      "Target            16281 non-null object\n",
      "dtypes: int64(6), object(9)\n",
      "memory usage: 1.9+ MB\n"
     ]
    }
   ],
   "source": [
    "test.info()"
   ]
  },
  {
   "cell_type": "code",
   "execution_count": 29,
   "metadata": {},
   "outputs": [],
   "source": [
    "test['Workclass'].fillna(test['Workclass'].mode()[0], inplace=True)"
   ]
  },
  {
   "cell_type": "code",
   "execution_count": 30,
   "metadata": {},
   "outputs": [],
   "source": [
    "m=pd.DataFrame(test.groupby(['Age','Education']).Occupation.apply(lambda x: x.mode()))\n",
    "m=m.rename(columns = {'Occupation':'occ_na'})\n",
    "m=m.rename(columns = {'':'num'})\n",
    "m.reset_index( inplace=True)\n",
    "m.columns =['Age','Education','nn','occ_na']\n",
    "\n",
    "m1=m[m.nn==0]"
   ]
  },
  {
   "cell_type": "code",
   "execution_count": 31,
   "metadata": {},
   "outputs": [
    {
     "data": {
      "text/plain": [
       "(16281, 17)"
      ]
     },
     "execution_count": 31,
     "metadata": {},
     "output_type": "execute_result"
    }
   ],
   "source": [
    "new= pd.merge(test,m1,on=['Age','Education'],how='outer')\n",
    "new.shape"
   ]
  },
  {
   "cell_type": "code",
   "execution_count": 32,
   "metadata": {},
   "outputs": [],
   "source": [
    "new['Occupation']= new['Occupation'].fillna(new.occ_na)"
   ]
  },
  {
   "cell_type": "code",
   "execution_count": 33,
   "metadata": {},
   "outputs": [],
   "source": [
    "new['Occupation'].fillna(new['Occupation'].mode()[0], inplace=True)"
   ]
  },
  {
   "cell_type": "code",
   "execution_count": 34,
   "metadata": {},
   "outputs": [
    {
     "name": "stdout",
     "output_type": "stream",
     "text": [
      "<class 'pandas.core.frame.DataFrame'>\n",
      "Int64Index: 16281 entries, 0 to 16280\n",
      "Data columns (total 17 columns):\n",
      "Age               16281 non-null int64\n",
      "Workclass         16281 non-null object\n",
      "fnlwgt            16281 non-null int64\n",
      "Education         16281 non-null object\n",
      "Education-Num     16281 non-null int64\n",
      "Martial Status    16281 non-null object\n",
      "Occupation        16281 non-null object\n",
      "Relationship      16281 non-null object\n",
      "Race              16281 non-null object\n",
      "Sex               16281 non-null object\n",
      "Capital Gain      16281 non-null int64\n",
      "Capital Loss      16281 non-null int64\n",
      "Hours per week    16281 non-null int64\n",
      "Country           16007 non-null object\n",
      "Target            16281 non-null object\n",
      "nn                16254 non-null float64\n",
      "occ_na            16254 non-null object\n",
      "dtypes: float64(1), int64(6), object(10)\n",
      "memory usage: 2.2+ MB\n"
     ]
    }
   ],
   "source": [
    "new.info()\n"
   ]
  },
  {
   "cell_type": "code",
   "execution_count": 35,
   "metadata": {},
   "outputs": [],
   "source": [
    "new =new.drop(['nn','occ_na'], axis=1)\n",
    "test=new\n"
   ]
  },
  {
   "cell_type": "code",
   "execution_count": 36,
   "metadata": {},
   "outputs": [],
   "source": [
    "test['Country']=test['Country'].fillna('No USA')\n",
    "test['Country']=test['Country'].replace('United-States',1)\n",
    "test.loc[test['Country'] !=1, 'Country'] = 0"
   ]
  },
  {
   "cell_type": "code",
   "execution_count": 37,
   "metadata": {},
   "outputs": [
    {
     "name": "stdout",
     "output_type": "stream",
     "text": [
      "<class 'pandas.core.frame.DataFrame'>\n",
      "Int64Index: 16281 entries, 0 to 16280\n",
      "Data columns (total 15 columns):\n",
      "Age               16281 non-null int64\n",
      "Workclass         16281 non-null object\n",
      "fnlwgt            16281 non-null int64\n",
      "Education         16281 non-null object\n",
      "Education-Num     16281 non-null int64\n",
      "Martial Status    16281 non-null object\n",
      "Occupation        16281 non-null object\n",
      "Relationship      16281 non-null object\n",
      "Race              16281 non-null object\n",
      "Sex               16281 non-null object\n",
      "Capital Gain      16281 non-null int64\n",
      "Capital Loss      16281 non-null int64\n",
      "Hours per week    16281 non-null int64\n",
      "Country           16281 non-null int64\n",
      "Target            16281 non-null object\n",
      "dtypes: int64(7), object(8)\n",
      "memory usage: 2.0+ MB\n"
     ]
    }
   ],
   "source": [
    "test.info()"
   ]
  },
  {
   "cell_type": "code",
   "execution_count": 38,
   "metadata": {},
   "outputs": [],
   "source": [
    "X_data_t = test.iloc[:,0:14]\n",
    "y_test = test.iloc[:,14]"
   ]
  },
  {
   "cell_type": "code",
   "execution_count": 39,
   "metadata": {},
   "outputs": [
    {
     "data": {
      "text/plain": [
       "array(['<=50K.', '>50K.'], dtype=object)"
      ]
     },
     "execution_count": 39,
     "metadata": {},
     "output_type": "execute_result"
    }
   ],
   "source": [
    "y_test.unique()"
   ]
  },
  {
   "cell_type": "code",
   "execution_count": 40,
   "metadata": {},
   "outputs": [],
   "source": [
    "y_test=y_test.replace('<=50K.','<=50K')\n",
    "y_test=y_test.replace('>50K.','>50K')"
   ]
  },
  {
   "cell_type": "code",
   "execution_count": 41,
   "metadata": {},
   "outputs": [],
   "source": [
    "y_test=y_test.replace('>50K',0)\n",
    "y_test=y_test.replace('<=50K',1)\n",
    "y_train=y_train.replace('>50K',0)   \n",
    "y_train=y_train.replace('<=50K',1)    "
   ]
  },
  {
   "cell_type": "code",
   "execution_count": 42,
   "metadata": {},
   "outputs": [],
   "source": [
    "x = pd.get_dummies(data=X_data_t, columns=['Workclass','Martial Status','Occupation','Relationship','Race','Sex'],prefix = ['Workclass','Martial Status','Occupation','Relationship','Race','Sex'], drop_first=True) \n",
    "X_data_t =x\n",
    "X_data_t=X_data_t.drop(['Education'], axis=1)"
   ]
  },
  {
   "cell_type": "markdown",
   "metadata": {},
   "source": [
    "Scaling the explanatory data for test and train."
   ]
  },
  {
   "cell_type": "code",
   "execution_count": 43,
   "metadata": {},
   "outputs": [],
   "source": [
    "from sklearn.preprocessing import MinMaxScaler\n",
    "scaler = MinMaxScaler()\n",
    "X_test = scaler.fit_transform(X_data_t)"
   ]
  },
  {
   "cell_type": "code",
   "execution_count": 44,
   "metadata": {},
   "outputs": [],
   "source": [
    "from sklearn.preprocessing import MinMaxScaler\n",
    "scaler = MinMaxScaler()\n",
    "X_train = scaler.fit_transform(X_data)"
   ]
  },
  {
   "cell_type": "code",
   "execution_count": 89,
   "metadata": {},
   "outputs": [],
   "source": [
    "#!pip install -U scikit-learn"
   ]
  },
  {
   "cell_type": "markdown",
   "metadata": {},
   "source": [
    "Applying grid search on each model to find the best hyperparameter for various models."
   ]
  },
  {
   "cell_type": "markdown",
   "metadata": {},
   "source": [
    "K Neighbours Classifier"
   ]
  },
  {
   "cell_type": "code",
   "execution_count": 45,
   "metadata": {},
   "outputs": [],
   "source": [
    "from sklearn.model_selection import GridSearchCV\n",
    "from sklearn.neighbors import KNeighborsClassifier\n",
    "from sklearn.model_selection import cross_val_score"
   ]
  },
  {
   "cell_type": "code",
   "execution_count": 46,
   "metadata": {},
   "outputs": [
    {
     "name": "stdout",
     "output_type": "stream",
     "text": [
      "{'n_neighbors': [1, 3, 7, 13, 15]}\n"
     ]
    }
   ],
   "source": [
    "param_grid = {\"n_neighbors\" :[1,3,7,13,15]}\n",
    "print(param_grid)"
   ]
  },
  {
   "cell_type": "code",
   "execution_count": 47,
   "metadata": {},
   "outputs": [
    {
     "data": {
      "text/plain": [
       "GridSearchCV(cv=5, error_score='raise',\n",
       "       estimator=KNeighborsClassifier(algorithm='auto', leaf_size=30, metric='minkowski',\n",
       "           metric_params=None, n_jobs=1, n_neighbors=5, p=2,\n",
       "           weights='uniform'),\n",
       "       fit_params=None, iid=True, n_jobs=1,\n",
       "       param_grid={'n_neighbors': [1, 3, 7, 13, 15]},\n",
       "       pre_dispatch='2*n_jobs', refit=True, return_train_score='warn',\n",
       "       scoring='accuracy', verbose=0)"
      ]
     },
     "execution_count": 47,
     "metadata": {},
     "output_type": "execute_result"
    }
   ],
   "source": [
    "grid = GridSearchCV(KNeighborsClassifier(), param_grid, cv=5, scoring='accuracy')\n",
    "grid.fit(X_train, y_train)"
   ]
  },
  {
   "cell_type": "code",
   "execution_count": 48,
   "metadata": {},
   "outputs": [
    {
     "name": "stdout",
     "output_type": "stream",
     "text": [
      "0.8309941340867909\n",
      "{'n_neighbors': 15}\n"
     ]
    }
   ],
   "source": [
    "print(grid.best_score_)\n",
    "print(grid.best_params_)"
   ]
  },
  {
   "cell_type": "code",
   "execution_count": 49,
   "metadata": {},
   "outputs": [],
   "source": [
    "knn_predict = grid.predict(X_test)"
   ]
  },
  {
   "cell_type": "code",
   "execution_count": 50,
   "metadata": {},
   "outputs": [
    {
     "name": "stdout",
     "output_type": "stream",
     "text": [
      "\n",
      "KNN confusion matrix:\n",
      "[[ 2170  1676]\n",
      " [ 1043 11392]]\n"
     ]
    }
   ],
   "source": [
    "from sklearn.metrics import confusion_matrix\n",
    "print(\"\\nKNN confusion matrix:\")\n",
    "print(confusion_matrix(y_test, knn_predict))"
   ]
  },
  {
   "cell_type": "code",
   "execution_count": 51,
   "metadata": {},
   "outputs": [
    {
     "name": "stdout",
     "output_type": "stream",
     "text": [
      "\n",
      "KNN scores:\n",
      "             precision    recall  f1-score   support\n",
      "\n",
      "          0       0.68      0.56      0.61      3846\n",
      "          1       0.87      0.92      0.89     12435\n",
      "\n",
      "avg / total       0.83      0.83      0.83     16281\n",
      "\n"
     ]
    }
   ],
   "source": [
    "from sklearn.metrics import classification_report\n",
    "print(\"\\nKNN scores:\")\n",
    "print(classification_report(y_test, knn_predict))"
   ]
  },
  {
   "cell_type": "code",
   "execution_count": 52,
   "metadata": {},
   "outputs": [],
   "source": [
    "y_knn_predict = grid.predict(X_test)\n",
    "y_knn_train_predict = grid.predict(X_train) "
   ]
  },
  {
   "cell_type": "code",
   "execution_count": 53,
   "metadata": {},
   "outputs": [
    {
     "name": "stdout",
     "output_type": "stream",
     "text": [
      "Train roc_auc_score: 0.81\n",
      "Test roc_auc_score: 0.77 \n"
     ]
    }
   ],
   "source": [
    "from sklearn.metrics import roc_auc_score\n",
    "print('Train roc_auc_score: %.2f'%roc_auc_score(y_knn_train_predict, y_train))\n",
    "print('Test roc_auc_score: %.2f '%roc_auc_score(y_knn_predict, y_test))"
   ]
  },
  {
   "cell_type": "code",
   "execution_count": 97,
   "metadata": {},
   "outputs": [],
   "source": [
    "report_table= [['knn', 'k = 15', grid.score(X_train, y_train), grid.score(X_test, y_test), roc_auc_score(y_knn_train_predict, y_train), roc_auc_score(y_knn_predict, y_test) ]]"
   ]
  },
  {
   "cell_type": "code",
   "execution_count": 98,
   "metadata": {},
   "outputs": [
    {
     "data": {
      "text/plain": [
       "[['knn',\n",
       "  'k = 15',\n",
       "  0.8536592856484752,\n",
       "  0.8329955162459308,\n",
       "  0.8090094983878588,\n",
       "  0.7735645222276238]]"
      ]
     },
     "execution_count": 98,
     "metadata": {},
     "output_type": "execute_result"
    }
   ],
   "source": [
    "report_table"
   ]
  },
  {
   "cell_type": "markdown",
   "metadata": {},
   "source": [
    "Logistic Regression"
   ]
  },
  {
   "cell_type": "code",
   "execution_count": 56,
   "metadata": {},
   "outputs": [],
   "source": [
    "from sklearn import linear_model\n",
    "\n",
    "logistic = linear_model.LogisticRegression()\n",
    "penalty = ['l1', 'l2']\n",
    "C = [0.001, 0.01, 0.1, 1, 10, 100, 1000]\n",
    "hyperparameters = dict(C=C, penalty=penalty)\n",
    "grid_lg = GridSearchCV(logistic, hyperparameters, cv=5, scoring='accuracy')"
   ]
  },
  {
   "cell_type": "code",
   "execution_count": 57,
   "metadata": {},
   "outputs": [
    {
     "data": {
      "text/plain": [
       "GridSearchCV(cv=5, error_score='raise',\n",
       "       estimator=LogisticRegression(C=1.0, class_weight=None, dual=False, fit_intercept=True,\n",
       "          intercept_scaling=1, max_iter=100, multi_class='ovr', n_jobs=1,\n",
       "          penalty='l2', random_state=None, solver='liblinear', tol=0.0001,\n",
       "          verbose=0, warm_start=False),\n",
       "       fit_params=None, iid=True, n_jobs=1,\n",
       "       param_grid={'C': [0.001, 0.01, 0.1, 1, 10, 100, 1000], 'penalty': ['l1', 'l2']},\n",
       "       pre_dispatch='2*n_jobs', refit=True, return_train_score='warn',\n",
       "       scoring='accuracy', verbose=0)"
      ]
     },
     "execution_count": 57,
     "metadata": {},
     "output_type": "execute_result"
    }
   ],
   "source": [
    "grid_lg.fit(X_train,y_train)"
   ]
  },
  {
   "cell_type": "code",
   "execution_count": 58,
   "metadata": {},
   "outputs": [
    {
     "name": "stdout",
     "output_type": "stream",
     "text": [
      "0.8487454316513621\n",
      "{'C': 10, 'penalty': 'l1'}\n"
     ]
    }
   ],
   "source": [
    "print(grid_lg.best_score_)\n",
    "print(grid_lg.best_params_)"
   ]
  },
  {
   "cell_type": "code",
   "execution_count": 59,
   "metadata": {},
   "outputs": [],
   "source": [
    "lg_predict = grid_lg.predict(X_test)\n",
    "lg_train_predict = grid_lg.predict(X_train)"
   ]
  },
  {
   "cell_type": "code",
   "execution_count": 60,
   "metadata": {},
   "outputs": [
    {
     "name": "stdout",
     "output_type": "stream",
     "text": [
      "\n",
      "LG confusion matrix:\n",
      "[[ 2304  1542]\n",
      " [  869 11566]]\n"
     ]
    }
   ],
   "source": [
    "from sklearn.metrics import confusion_matrix\n",
    "print(\"\\nLG confusion matrix:\")\n",
    "print(confusion_matrix(y_test, lg_predict))"
   ]
  },
  {
   "cell_type": "code",
   "execution_count": 61,
   "metadata": {},
   "outputs": [
    {
     "name": "stdout",
     "output_type": "stream",
     "text": [
      "\n",
      "LG scores:\n",
      "             precision    recall  f1-score   support\n",
      "\n",
      "          0       0.73      0.60      0.66      3846\n",
      "          1       0.88      0.93      0.91     12435\n",
      "\n",
      "avg / total       0.85      0.85      0.85     16281\n",
      "\n"
     ]
    }
   ],
   "source": [
    "from sklearn.metrics import classification_report\n",
    "print(\"\\nLG scores:\")\n",
    "print(classification_report(y_test, lg_predict))"
   ]
  },
  {
   "cell_type": "code",
   "execution_count": 62,
   "metadata": {},
   "outputs": [
    {
     "name": "stdout",
     "output_type": "stream",
     "text": [
      "Train roc_auc_score: 0.81\n",
      "Test roc_auc_score: 0.80 \n"
     ]
    }
   ],
   "source": [
    "from sklearn.metrics import roc_auc_score\n",
    "print('Train roc_auc_score: %.2f'%roc_auc_score(lg_train_predict, y_train))\n",
    "print('Test roc_auc_score: %.2f '%roc_auc_score(lg_predict, y_test))"
   ]
  },
  {
   "cell_type": "code",
   "execution_count": 99,
   "metadata": {},
   "outputs": [
    {
     "data": {
      "text/plain": [
       "[['knn',\n",
       "  'k = 15',\n",
       "  0.8536592856484752,\n",
       "  0.8329955162459308,\n",
       "  0.8090094983878588,\n",
       "  0.7735645222276238],\n",
       " ['lg',\n",
       "  'C=10, Penalty=l1',\n",
       "  0.8514787629372562,\n",
       "  0.8519132731404705,\n",
       "  0.8069928894227925,\n",
       "  0.8042443051836997]]"
      ]
     },
     "execution_count": 99,
     "metadata": {},
     "output_type": "execute_result"
    }
   ],
   "source": [
    "report_table =report_table + [['lg', 'C=10, Penalty=l1', grid_lg.score(X_train, y_train), grid_lg.score(X_test, y_test), roc_auc_score(lg_train_predict, y_train), roc_auc_score(lg_predict, y_test) ]]\n",
    "report_table"
   ]
  },
  {
   "cell_type": "markdown",
   "metadata": {},
   "source": [
    "Linear SVC"
   ]
  },
  {
   "cell_type": "code",
   "execution_count": 64,
   "metadata": {},
   "outputs": [
    {
     "data": {
      "text/plain": [
       "GridSearchCV(cv=10, error_score='raise',\n",
       "       estimator=LinearSVC(C=1.0, class_weight=None, dual=True, fit_intercept=True,\n",
       "     intercept_scaling=1, loss='squared_hinge', max_iter=1000,\n",
       "     multi_class='ovr', penalty='l2', random_state=None, tol=0.0001,\n",
       "     verbose=0),\n",
       "       fit_params=None, iid=True, n_jobs=1,\n",
       "       param_grid={'C': [0.001, 0.01, 0.1, 1, 10, 100]},\n",
       "       pre_dispatch='2*n_jobs', refit=True, return_train_score='warn',\n",
       "       scoring='accuracy', verbose=0)"
      ]
     },
     "execution_count": 64,
     "metadata": {},
     "output_type": "execute_result"
    }
   ],
   "source": [
    "from sklearn.svm import LinearSVC\n",
    "\n",
    "svc_lin = LinearSVC()\n",
    "param_grid = {'C':[0.001, 0.01, 0.1, 1, 10, 100]}\n",
    "\n",
    "grid_svc_lin = GridSearchCV(svc_lin, param_grid, cv = 10, scoring='accuracy')\n",
    "grid_svc_lin.fit(X_train,y_train)"
   ]
  },
  {
   "cell_type": "code",
   "execution_count": 65,
   "metadata": {},
   "outputs": [
    {
     "name": "stdout",
     "output_type": "stream",
     "text": [
      "0.850188876263014\n",
      "{'C': 10}\n"
     ]
    }
   ],
   "source": [
    "print(grid_svc_lin.best_score_)\n",
    "print(grid_svc_lin.best_params_)"
   ]
  },
  {
   "cell_type": "code",
   "execution_count": 67,
   "metadata": {},
   "outputs": [],
   "source": [
    "lin_svc_predict = grid_svc_lin.predict(X_test)\n",
    "lin_svc_train_predict = grid_svc_lin.predict(X_train)"
   ]
  },
  {
   "cell_type": "code",
   "execution_count": 68,
   "metadata": {},
   "outputs": [
    {
     "name": "stdout",
     "output_type": "stream",
     "text": [
      "\n",
      "LinSVC confusion matrix:\n",
      "[[ 2264  1582]\n",
      " [  824 11611]]\n"
     ]
    }
   ],
   "source": [
    "from sklearn.metrics import confusion_matrix\n",
    "print(\"\\nLinSVC confusion matrix:\")\n",
    "print(confusion_matrix(y_test, lin_svc_predict))"
   ]
  },
  {
   "cell_type": "code",
   "execution_count": 69,
   "metadata": {},
   "outputs": [
    {
     "name": "stdout",
     "output_type": "stream",
     "text": [
      "\n",
      "LinSVC scores:\n",
      "             precision    recall  f1-score   support\n",
      "\n",
      "          0       0.73      0.59      0.65      3846\n",
      "          1       0.88      0.93      0.91     12435\n",
      "\n",
      "avg / total       0.85      0.85      0.85     16281\n",
      "\n"
     ]
    }
   ],
   "source": [
    "from sklearn.metrics import classification_report\n",
    "print(\"\\nLinSVC scores:\")\n",
    "print(classification_report(y_test, lin_svc_predict))"
   ]
  },
  {
   "cell_type": "code",
   "execution_count": 70,
   "metadata": {},
   "outputs": [
    {
     "name": "stdout",
     "output_type": "stream",
     "text": [
      "Train roc_auc_score: 0.81\n",
      "Test roc_auc_score: 0.81 \n"
     ]
    }
   ],
   "source": [
    "from sklearn.metrics import roc_auc_score\n",
    "print('Train roc_auc_score: %.2f'%roc_auc_score(lin_svc_train_predict, y_train))\n",
    "print('Test roc_auc_score: %.2f '%roc_auc_score(lin_svc_predict, y_test))"
   ]
  },
  {
   "cell_type": "code",
   "execution_count": 100,
   "metadata": {},
   "outputs": [
    {
     "data": {
      "text/plain": [
       "[['knn',\n",
       "  'k = 15',\n",
       "  0.8536592856484752,\n",
       "  0.8329955162459308,\n",
       "  0.8090094983878588,\n",
       "  0.7735645222276238],\n",
       " ['lg',\n",
       "  'C=10, Penalty=l1',\n",
       "  0.8514787629372562,\n",
       "  0.8519132731404705,\n",
       "  0.8069928894227925,\n",
       "  0.8042443051836997],\n",
       " ['lin_svc',\n",
       "  'C=10',\n",
       "  0.8515094745247381,\n",
       "  0.8522203795835637,\n",
       "  0.8093027960271558,\n",
       "  0.8066242735883253]]"
      ]
     },
     "execution_count": 100,
     "metadata": {},
     "output_type": "execute_result"
    }
   ],
   "source": [
    "report_table =report_table + [['lin_svc', 'C=10', grid_svc_lin.score(X_train, y_train), grid_svc_lin.score(X_test, y_test), roc_auc_score(lin_svc_train_predict, y_train), roc_auc_score(lin_svc_predict, y_test) ]]\n",
    "report_table"
   ]
  },
  {
   "cell_type": "markdown",
   "metadata": {},
   "source": [
    "Kernalized SVC"
   ]
  },
  {
   "cell_type": "code",
   "execution_count": null,
   "metadata": {},
   "outputs": [],
   "source": [
    "from sklearn.svm import SVC\n",
    "#Grid Search with Cross-Validation using cv=10\n",
    "param_grid = {'C': [0.1, 1, 10, 100], 'gamma': [0.01, 0.1, 1, 10, 100]}\n",
    "grid_svc = GridSearchCV(SVC(kernel='rbf'), param_grid, cv=10, scoring = 'accuracy', n_jobs=-1)\n",
    "grid_svc.fit(X_train,y_train)"
   ]
  },
  {
   "cell_type": "code",
   "execution_count": null,
   "metadata": {},
   "outputs": [],
   "source": [
    "print(\"Best parameters: {}\".format(grid_svc.best_params_))\n",
    "print(\"Best cross-validation score: {:.4f}\".format(grid_svc.best_score_))"
   ]
  },
  {
   "cell_type": "code",
   "execution_count": null,
   "metadata": {},
   "outputs": [],
   "source": [
    "svc_predict = grid_svc.predict(X_test)\n",
    "svc_train_predict = grid_svc.predict(X_train)"
   ]
  },
  {
   "cell_type": "code",
   "execution_count": null,
   "metadata": {},
   "outputs": [],
   "source": [
    "from sklearn.metrics import confusion_matrix\n",
    "print(\"\\nSVC_predict confusion matrix:\")\n",
    "print(confusion_matrix(y_test, svc_predict))"
   ]
  },
  {
   "cell_type": "code",
   "execution_count": null,
   "metadata": {},
   "outputs": [],
   "source": [
    "from sklearn.metrics import classification_report\n",
    "print(\"\\nSVC scores:\")\n",
    "print(classification_report(y_test, svc_predict))"
   ]
  },
  {
   "cell_type": "code",
   "execution_count": null,
   "metadata": {},
   "outputs": [],
   "source": [
    "from sklearn.metrics import roc_auc_score\n",
    "print('Train roc_auc_score: %.2f'%roc_auc_score(svc_train_predict, y_train))\n",
    "print('Test roc_auc_score: %.2f '%roc_auc_score(svc_predict, y_test))"
   ]
  },
  {
   "cell_type": "code",
   "execution_count": null,
   "metadata": {},
   "outputs": [],
   "source": [
    "report_table =report_table + [['svc', 'C=100, gamma = 1', grid_svc.score(X_train, y_train), grid_svc.score(X_test, y_test), roc_auc_score(svc_train_predict, y_train), roc_auc_score(svc_predict, y_test) ]]\n",
    "report_table"
   ]
  },
  {
   "cell_type": "markdown",
   "metadata": {},
   "source": [
    "Decision Tree"
   ]
  },
  {
   "cell_type": "code",
   "execution_count": 72,
   "metadata": {},
   "outputs": [
    {
     "data": {
      "text/plain": [
       "GridSearchCV(cv=10, error_score='raise',\n",
       "       estimator=DecisionTreeClassifier(class_weight=None, criterion='gini', max_depth=None,\n",
       "            max_features=None, max_leaf_nodes=None,\n",
       "            min_impurity_decrease=0.0, min_impurity_split=None,\n",
       "            min_samples_leaf=1, min_samples_split=2,\n",
       "            min_weight_fraction_leaf=0.0, presort=False, random_state=None,\n",
       "            splitter='best'),\n",
       "       fit_params=None, iid=True, n_jobs=1,\n",
       "       param_grid={'max_depth': [2, 4, 6, 8, 10, 12]},\n",
       "       pre_dispatch='2*n_jobs', refit=True, return_train_score='warn',\n",
       "       scoring='accuracy', verbose=0)"
      ]
     },
     "execution_count": 72,
     "metadata": {},
     "output_type": "execute_result"
    }
   ],
   "source": [
    "from sklearn.tree import DecisionTreeClassifier\n",
    "param_grid = {'max_depth': [2, 4, 6, 8, 10, 12]}\n",
    "grid_dt = GridSearchCV(DecisionTreeClassifier(), param_grid, cv=10, scoring = 'accuracy')\n",
    "grid_dt.fit(X_train,y_train)"
   ]
  },
  {
   "cell_type": "code",
   "execution_count": 73,
   "metadata": {},
   "outputs": [
    {
     "name": "stdout",
     "output_type": "stream",
     "text": [
      "Best parameters: {'max_depth': 6}\n",
      "Best cross-validation score: 0.8518\n"
     ]
    }
   ],
   "source": [
    "print(\"Best parameters: {}\".format(grid_dt.best_params_))\n",
    "print(\"Best cross-validation score: {:.4f}\".format(grid_dt.best_score_))"
   ]
  },
  {
   "cell_type": "code",
   "execution_count": 74,
   "metadata": {},
   "outputs": [],
   "source": [
    "dt_predict = grid_dt.predict(X_test)\n",
    "dt_train_predict = grid_dt.predict(X_train)"
   ]
  },
  {
   "cell_type": "code",
   "execution_count": 75,
   "metadata": {},
   "outputs": [
    {
     "name": "stdout",
     "output_type": "stream",
     "text": [
      "\n",
      "DT_predict confusion matrix:\n",
      "[[ 1907  1939]\n",
      " [  562 11873]]\n"
     ]
    }
   ],
   "source": [
    "from sklearn.metrics import confusion_matrix\n",
    "print(\"\\nDT_predict confusion matrix:\")\n",
    "print(confusion_matrix(y_test, dt_predict))"
   ]
  },
  {
   "cell_type": "code",
   "execution_count": 76,
   "metadata": {},
   "outputs": [
    {
     "name": "stdout",
     "output_type": "stream",
     "text": [
      "\n",
      "DT scores:\n",
      "             precision    recall  f1-score   support\n",
      "\n",
      "          0       0.77      0.50      0.60      3846\n",
      "          1       0.86      0.95      0.90     12435\n",
      "\n",
      "avg / total       0.84      0.85      0.83     16281\n",
      "\n"
     ]
    }
   ],
   "source": [
    "from sklearn.metrics import classification_report\n",
    "print(\"\\nDT scores:\")\n",
    "print(classification_report(y_test, dt_predict))"
   ]
  },
  {
   "cell_type": "code",
   "execution_count": 77,
   "metadata": {},
   "outputs": [
    {
     "name": "stdout",
     "output_type": "stream",
     "text": [
      "Train roc_auc_score: 0.84\n",
      "Test roc_auc_score: 0.82 \n"
     ]
    }
   ],
   "source": [
    "from sklearn.metrics import roc_auc_score\n",
    "print('Train roc_auc_score: %.2f'%roc_auc_score(dt_train_predict, y_train))\n",
    "print('Test roc_auc_score: %.2f '%roc_auc_score(dt_predict, y_test))"
   ]
  },
  {
   "cell_type": "code",
   "execution_count": 101,
   "metadata": {},
   "outputs": [
    {
     "data": {
      "text/plain": [
       "[['knn',\n",
       "  'k = 15',\n",
       "  0.8536592856484752,\n",
       "  0.8329955162459308,\n",
       "  0.8090094983878588,\n",
       "  0.7735645222276238],\n",
       " ['lg',\n",
       "  'C=10, Penalty=l1',\n",
       "  0.8514787629372562,\n",
       "  0.8519132731404705,\n",
       "  0.8069928894227925,\n",
       "  0.8042443051836997],\n",
       " ['lin_svc',\n",
       "  'C=10',\n",
       "  0.8515094745247381,\n",
       "  0.8522203795835637,\n",
       "  0.8093027960271558,\n",
       "  0.8066242735883253],\n",
       " ['DT',\n",
       "  'Max Depth = 6',\n",
       "  0.8569761370965265,\n",
       "  0.8463853571647934,\n",
       "  0.8373134545816666,\n",
       "  0.8159961542237559]]"
      ]
     },
     "execution_count": 101,
     "metadata": {},
     "output_type": "execute_result"
    }
   ],
   "source": [
    "report_table =report_table + [['DT', 'Max Depth = 6', grid_dt.score(X_train, y_train), grid_dt.score(X_test, y_test), roc_auc_score(dt_train_predict, y_train), roc_auc_score(dt_predict, y_test) ]]\n",
    "report_table"
   ]
  },
  {
   "cell_type": "code",
   "execution_count": 102,
   "metadata": {},
   "outputs": [],
   "source": [
    "report = pd.DataFrame(report_table,columns = ['Model name', 'Model parameter', 'Train accuracy', 'Test accuracy', 'Train auc score', 'Test auc score'])"
   ]
  },
  {
   "cell_type": "code",
   "execution_count": 103,
   "metadata": {},
   "outputs": [],
   "source": [
    "report.index = report['Model name']"
   ]
  },
  {
   "cell_type": "code",
   "execution_count": 104,
   "metadata": {},
   "outputs": [
    {
     "data": {
      "text/html": [
       "<div>\n",
       "<style scoped>\n",
       "    .dataframe tbody tr th:only-of-type {\n",
       "        vertical-align: middle;\n",
       "    }\n",
       "\n",
       "    .dataframe tbody tr th {\n",
       "        vertical-align: top;\n",
       "    }\n",
       "\n",
       "    .dataframe thead th {\n",
       "        text-align: right;\n",
       "    }\n",
       "</style>\n",
       "<table border=\"1\" class=\"dataframe\">\n",
       "  <thead>\n",
       "    <tr style=\"text-align: right;\">\n",
       "      <th></th>\n",
       "      <th>Model name</th>\n",
       "      <th>Model parameter</th>\n",
       "      <th>Train accuracy</th>\n",
       "      <th>Test accuracy</th>\n",
       "      <th>Train auc score</th>\n",
       "      <th>Test auc score</th>\n",
       "    </tr>\n",
       "    <tr>\n",
       "      <th>Model name</th>\n",
       "      <th></th>\n",
       "      <th></th>\n",
       "      <th></th>\n",
       "      <th></th>\n",
       "      <th></th>\n",
       "      <th></th>\n",
       "    </tr>\n",
       "  </thead>\n",
       "  <tbody>\n",
       "    <tr>\n",
       "      <th>knn</th>\n",
       "      <td>knn</td>\n",
       "      <td>k = 15</td>\n",
       "      <td>0.853659</td>\n",
       "      <td>0.832996</td>\n",
       "      <td>0.809009</td>\n",
       "      <td>0.773565</td>\n",
       "    </tr>\n",
       "    <tr>\n",
       "      <th>lg</th>\n",
       "      <td>lg</td>\n",
       "      <td>C=10, Penalty=l1</td>\n",
       "      <td>0.851479</td>\n",
       "      <td>0.851913</td>\n",
       "      <td>0.806993</td>\n",
       "      <td>0.804244</td>\n",
       "    </tr>\n",
       "    <tr>\n",
       "      <th>lin_svc</th>\n",
       "      <td>lin_svc</td>\n",
       "      <td>C=10</td>\n",
       "      <td>0.851509</td>\n",
       "      <td>0.852220</td>\n",
       "      <td>0.809303</td>\n",
       "      <td>0.806624</td>\n",
       "    </tr>\n",
       "    <tr>\n",
       "      <th>DT</th>\n",
       "      <td>DT</td>\n",
       "      <td>Max Depth = 6</td>\n",
       "      <td>0.856976</td>\n",
       "      <td>0.846385</td>\n",
       "      <td>0.837313</td>\n",
       "      <td>0.815996</td>\n",
       "    </tr>\n",
       "  </tbody>\n",
       "</table>\n",
       "</div>"
      ],
      "text/plain": [
       "           Model name   Model parameter  Train accuracy  Test accuracy  \\\n",
       "Model name                                                               \n",
       "knn               knn            k = 15        0.853659       0.832996   \n",
       "lg                 lg  C=10, Penalty=l1        0.851479       0.851913   \n",
       "lin_svc       lin_svc              C=10        0.851509       0.852220   \n",
       "DT                 DT     Max Depth = 6        0.856976       0.846385   \n",
       "\n",
       "            Train auc score  Test auc score  \n",
       "Model name                                   \n",
       "knn                0.809009        0.773565  \n",
       "lg                 0.806993        0.804244  \n",
       "lin_svc            0.809303        0.806624  \n",
       "DT                 0.837313        0.815996  "
      ]
     },
     "execution_count": 104,
     "metadata": {},
     "output_type": "execute_result"
    }
   ],
   "source": [
    "report"
   ]
  },
  {
   "cell_type": "markdown",
   "metadata": {},
   "source": [
    "Random Forest"
   ]
  },
  {
   "cell_type": "code",
   "execution_count": 82,
   "metadata": {},
   "outputs": [],
   "source": [
    "param_grid = {'n_estimators': [100,200,300,400,500], 'max_depth': [2, 4, 6, 8, 10, 12] }"
   ]
  },
  {
   "cell_type": "code",
   "execution_count": 83,
   "metadata": {},
   "outputs": [
    {
     "data": {
      "text/plain": [
       "GridSearchCV(cv=10, error_score='raise',\n",
       "       estimator=RandomForestClassifier(bootstrap=True, class_weight=None, criterion='gini',\n",
       "            max_depth=None, max_features='auto', max_leaf_nodes=None,\n",
       "            min_impurity_decrease=0.0, min_impurity_split=None,\n",
       "            min_samples_leaf=1, min_samples_split=2,\n",
       "            min_weight_fraction_leaf=0.0, n_estimators=10, n_jobs=1,\n",
       "            oob_score=False, random_state=25, verbose=0, warm_start=False),\n",
       "       fit_params=None, iid=True, n_jobs=-1,\n",
       "       param_grid={'n_estimators': [100, 200, 300, 400, 500], 'max_depth': [2, 4, 6, 8, 10, 12]},\n",
       "       pre_dispatch='2*n_jobs', refit=True, return_train_score='warn',\n",
       "       scoring='accuracy', verbose=0)"
      ]
     },
     "execution_count": 83,
     "metadata": {},
     "output_type": "execute_result"
    }
   ],
   "source": [
    "from sklearn.ensemble import RandomForestClassifier\n",
    "grid_rf = GridSearchCV(RandomForestClassifier(random_state=25), param_grid, cv=10, scoring = 'accuracy', n_jobs=-1)\n",
    "\n",
    "grid_rf.fit(X_train,y_train)"
   ]
  },
  {
   "cell_type": "code",
   "execution_count": 84,
   "metadata": {},
   "outputs": [
    {
     "name": "stdout",
     "output_type": "stream",
     "text": [
      "Best parameters: {'max_depth': 12, 'n_estimators': 200}\n",
      "Best cross-validation score: 0.8583\n"
     ]
    }
   ],
   "source": [
    "print(\"Best parameters: {}\".format(grid_rf.best_params_))\n",
    "print(\"Best cross-validation score: {:.4f}\".format(grid_rf.best_score_))"
   ]
  },
  {
   "cell_type": "code",
   "execution_count": 85,
   "metadata": {},
   "outputs": [],
   "source": [
    "rf_predict = grid_rf.predict(X_test)\n",
    "rf_train_predict = grid_rf.predict(X_train)"
   ]
  },
  {
   "cell_type": "code",
   "execution_count": 86,
   "metadata": {},
   "outputs": [
    {
     "name": "stdout",
     "output_type": "stream",
     "text": [
      "\n",
      "RF_predict confusion matrix:\n",
      "[[ 2117  1729]\n",
      " [  571 11864]]\n"
     ]
    }
   ],
   "source": [
    "from sklearn.metrics import confusion_matrix\n",
    "print(\"\\nRF_predict confusion matrix:\")\n",
    "print(confusion_matrix(y_test, rf_predict))"
   ]
  },
  {
   "cell_type": "code",
   "execution_count": 87,
   "metadata": {},
   "outputs": [
    {
     "name": "stdout",
     "output_type": "stream",
     "text": [
      "\n",
      "RF scores:\n",
      "             precision    recall  f1-score   support\n",
      "\n",
      "          0       0.79      0.55      0.65      3846\n",
      "          1       0.87      0.95      0.91     12435\n",
      "\n",
      "avg / total       0.85      0.86      0.85     16281\n",
      "\n"
     ]
    }
   ],
   "source": [
    "from sklearn.metrics import classification_report\n",
    "print(\"\\nRF scores:\")\n",
    "print(classification_report(y_test, rf_predict))"
   ]
  },
  {
   "cell_type": "code",
   "execution_count": 88,
   "metadata": {},
   "outputs": [
    {
     "name": "stdout",
     "output_type": "stream",
     "text": [
      "Train roc_auc_score: 0.86\n",
      "Test roc_auc_score: 0.83 \n"
     ]
    }
   ],
   "source": [
    "from sklearn.metrics import roc_auc_score\n",
    "print('Train roc_auc_score: %.2f'%roc_auc_score(rf_train_predict, y_train))\n",
    "print('Test roc_auc_score: %.2f '%roc_auc_score(rf_predict, y_test))"
   ]
  },
  {
   "cell_type": "code",
   "execution_count": 105,
   "metadata": {},
   "outputs": [
    {
     "data": {
      "text/plain": [
       "[['knn',\n",
       "  'k = 15',\n",
       "  0.8536592856484752,\n",
       "  0.8329955162459308,\n",
       "  0.8090094983878588,\n",
       "  0.7735645222276238],\n",
       " ['lg',\n",
       "  'C=10, Penalty=l1',\n",
       "  0.8514787629372562,\n",
       "  0.8519132731404705,\n",
       "  0.8069928894227925,\n",
       "  0.8042443051836997],\n",
       " ['lin_svc',\n",
       "  'C=10',\n",
       "  0.8515094745247381,\n",
       "  0.8522203795835637,\n",
       "  0.8093027960271558,\n",
       "  0.8066242735883253],\n",
       " ['DT',\n",
       "  'Max Depth = 6',\n",
       "  0.8569761370965265,\n",
       "  0.8463853571647934,\n",
       "  0.8373134545816666,\n",
       "  0.8159961542237559],\n",
       " ['RF',\n",
       "  'nestimators : 200,max_depth : 12',\n",
       "  0.8756487822855563,\n",
       "  0.858731036177139,\n",
       "  0.8608222084706258,\n",
       "  0.830188291176656]]"
      ]
     },
     "execution_count": 105,
     "metadata": {},
     "output_type": "execute_result"
    }
   ],
   "source": [
    "report_table =report_table + [['RF', 'nestimators : 200,max_depth : 12', grid_rf.score(X_train, y_train), grid_rf.score(X_test, y_test), roc_auc_score(rf_train_predict, y_train), roc_auc_score(rf_predict, y_test) ]]\n",
    "report_table"
   ]
  },
  {
   "cell_type": "markdown",
   "metadata": {},
   "source": [
    "Looking at all the metrics mentioned below in the table, Random forest(Ensemble) is the best model for this data following by decision tress and Logistic Regression"
   ]
  },
  {
   "cell_type": "code",
   "execution_count": 106,
   "metadata": {},
   "outputs": [
    {
     "data": {
      "text/html": [
       "<div>\n",
       "<style scoped>\n",
       "    .dataframe tbody tr th:only-of-type {\n",
       "        vertical-align: middle;\n",
       "    }\n",
       "\n",
       "    .dataframe tbody tr th {\n",
       "        vertical-align: top;\n",
       "    }\n",
       "\n",
       "    .dataframe thead th {\n",
       "        text-align: right;\n",
       "    }\n",
       "</style>\n",
       "<table border=\"1\" class=\"dataframe\">\n",
       "  <thead>\n",
       "    <tr style=\"text-align: right;\">\n",
       "      <th></th>\n",
       "      <th>Model name</th>\n",
       "      <th>Model parameter</th>\n",
       "      <th>Train accuracy</th>\n",
       "      <th>Test accuracy</th>\n",
       "      <th>Train auc score</th>\n",
       "      <th>Test auc score</th>\n",
       "    </tr>\n",
       "    <tr>\n",
       "      <th>Model name</th>\n",
       "      <th></th>\n",
       "      <th></th>\n",
       "      <th></th>\n",
       "      <th></th>\n",
       "      <th></th>\n",
       "      <th></th>\n",
       "    </tr>\n",
       "  </thead>\n",
       "  <tbody>\n",
       "    <tr>\n",
       "      <th>knn</th>\n",
       "      <td>knn</td>\n",
       "      <td>k = 15</td>\n",
       "      <td>0.853659</td>\n",
       "      <td>0.832996</td>\n",
       "      <td>0.809009</td>\n",
       "      <td>0.773565</td>\n",
       "    </tr>\n",
       "    <tr>\n",
       "      <th>lg</th>\n",
       "      <td>lg</td>\n",
       "      <td>C=10, Penalty=l1</td>\n",
       "      <td>0.851479</td>\n",
       "      <td>0.851913</td>\n",
       "      <td>0.806993</td>\n",
       "      <td>0.804244</td>\n",
       "    </tr>\n",
       "    <tr>\n",
       "      <th>lin_svc</th>\n",
       "      <td>lin_svc</td>\n",
       "      <td>C=10</td>\n",
       "      <td>0.851509</td>\n",
       "      <td>0.852220</td>\n",
       "      <td>0.809303</td>\n",
       "      <td>0.806624</td>\n",
       "    </tr>\n",
       "    <tr>\n",
       "      <th>DT</th>\n",
       "      <td>DT</td>\n",
       "      <td>Max Depth = 6</td>\n",
       "      <td>0.856976</td>\n",
       "      <td>0.846385</td>\n",
       "      <td>0.837313</td>\n",
       "      <td>0.815996</td>\n",
       "    </tr>\n",
       "    <tr>\n",
       "      <th>RF</th>\n",
       "      <td>RF</td>\n",
       "      <td>nestimators : 200,max_depth : 12</td>\n",
       "      <td>0.875649</td>\n",
       "      <td>0.858731</td>\n",
       "      <td>0.860822</td>\n",
       "      <td>0.830188</td>\n",
       "    </tr>\n",
       "  </tbody>\n",
       "</table>\n",
       "</div>"
      ],
      "text/plain": [
       "           Model name                   Model parameter  Train accuracy  \\\n",
       "Model name                                                                \n",
       "knn               knn                            k = 15        0.853659   \n",
       "lg                 lg                  C=10, Penalty=l1        0.851479   \n",
       "lin_svc       lin_svc                              C=10        0.851509   \n",
       "DT                 DT                     Max Depth = 6        0.856976   \n",
       "RF                 RF  nestimators : 200,max_depth : 12        0.875649   \n",
       "\n",
       "            Test accuracy  Train auc score  Test auc score  \n",
       "Model name                                                  \n",
       "knn              0.832996         0.809009        0.773565  \n",
       "lg               0.851913         0.806993        0.804244  \n",
       "lin_svc          0.852220         0.809303        0.806624  \n",
       "DT               0.846385         0.837313        0.815996  \n",
       "RF               0.858731         0.860822        0.830188  "
      ]
     },
     "execution_count": 106,
     "metadata": {},
     "output_type": "execute_result"
    }
   ],
   "source": [
    "report = pd.DataFrame(report_table,columns = ['Model name', 'Model parameter', 'Train accuracy', 'Test accuracy', 'Train auc score', 'Test auc score'])\n",
    "report.index = report['Model name']\n",
    "report"
   ]
  },
  {
   "cell_type": "code",
   "execution_count": 108,
   "metadata": {},
   "outputs": [
    {
     "name": "stdout",
     "output_type": "stream",
     "text": [
      "Accuracy on training set: 0.876\n",
      "Accuracy on test set: 0.859\n"
     ]
    }
   ],
   "source": [
    "forest = RandomForestClassifier(n_estimators=200,max_depth=12, random_state=25)\n",
    "forest.fit(X_train, y_train)\n",
    "\n",
    "print(\"Accuracy on training set: {:.3f}\".format(forest.score(X_train, y_train)))\n",
    "print(\"Accuracy on test set: {:.3f}\".format(forest.score(X_test, y_test)))"
   ]
  },
  {
   "cell_type": "code",
   "execution_count": 109,
   "metadata": {},
   "outputs": [
    {
     "data": {
      "text/plain": [
       "array([8.13068121e-02, 2.24667071e-02, 1.52550558e-01, 1.81108429e-01,\n",
       "       4.44013094e-02, 5.30143131e-02, 2.94438697e-03, 2.07868821e-03,\n",
       "       7.89509802e-07, 4.39510659e-03, 5.06652727e-03, 5.64064107e-03,\n",
       "       1.60561669e-03, 2.68798634e-05, 6.50796759e-04, 1.90627077e-01,\n",
       "       7.91838951e-04, 5.18965057e-02, 1.91638412e-03, 1.52298954e-03,\n",
       "       1.30719840e-06, 3.36404321e-03, 2.86351000e-02, 4.77303838e-03,\n",
       "       2.66612963e-03, 2.40047758e-03, 1.06092274e-02, 7.35041716e-05,\n",
       "       2.34137550e-02, 1.19982358e-03, 2.62164924e-03, 2.42899924e-03,\n",
       "       2.00010472e-03, 2.97701788e-02, 1.83871365e-03, 2.19808242e-02,\n",
       "       1.33228203e-02, 1.18495330e-02, 1.68941374e-03, 2.41566887e-03,\n",
       "       5.05657550e-04, 2.63997566e-03, 2.57876977e-02])"
      ]
     },
     "execution_count": 109,
     "metadata": {},
     "output_type": "execute_result"
    }
   ],
   "source": [
    "forest.feature_importances_"
   ]
  },
  {
   "cell_type": "markdown",
   "metadata": {},
   "source": [
    "Looking at the feature importance Black Race, Capital Gain and Capital Loss are the important features"
   ]
  },
  {
   "cell_type": "code",
   "execution_count": 110,
   "metadata": {},
   "outputs": [
    {
     "data": {
      "application/javascript": [
       "/* Put everything inside the global mpl namespace */\n",
       "window.mpl = {};\n",
       "\n",
       "\n",
       "mpl.get_websocket_type = function() {\n",
       "    if (typeof(WebSocket) !== 'undefined') {\n",
       "        return WebSocket;\n",
       "    } else if (typeof(MozWebSocket) !== 'undefined') {\n",
       "        return MozWebSocket;\n",
       "    } else {\n",
       "        alert('Your browser does not have WebSocket support.' +\n",
       "              'Please try Chrome, Safari or Firefox ≥ 6. ' +\n",
       "              'Firefox 4 and 5 are also supported but you ' +\n",
       "              'have to enable WebSockets in about:config.');\n",
       "    };\n",
       "}\n",
       "\n",
       "mpl.figure = function(figure_id, websocket, ondownload, parent_element) {\n",
       "    this.id = figure_id;\n",
       "\n",
       "    this.ws = websocket;\n",
       "\n",
       "    this.supports_binary = (this.ws.binaryType != undefined);\n",
       "\n",
       "    if (!this.supports_binary) {\n",
       "        var warnings = document.getElementById(\"mpl-warnings\");\n",
       "        if (warnings) {\n",
       "            warnings.style.display = 'block';\n",
       "            warnings.textContent = (\n",
       "                \"This browser does not support binary websocket messages. \" +\n",
       "                    \"Performance may be slow.\");\n",
       "        }\n",
       "    }\n",
       "\n",
       "    this.imageObj = new Image();\n",
       "\n",
       "    this.context = undefined;\n",
       "    this.message = undefined;\n",
       "    this.canvas = undefined;\n",
       "    this.rubberband_canvas = undefined;\n",
       "    this.rubberband_context = undefined;\n",
       "    this.format_dropdown = undefined;\n",
       "\n",
       "    this.image_mode = 'full';\n",
       "\n",
       "    this.root = $('<div/>');\n",
       "    this._root_extra_style(this.root)\n",
       "    this.root.attr('style', 'display: inline-block');\n",
       "\n",
       "    $(parent_element).append(this.root);\n",
       "\n",
       "    this._init_header(this);\n",
       "    this._init_canvas(this);\n",
       "    this._init_toolbar(this);\n",
       "\n",
       "    var fig = this;\n",
       "\n",
       "    this.waiting = false;\n",
       "\n",
       "    this.ws.onopen =  function () {\n",
       "            fig.send_message(\"supports_binary\", {value: fig.supports_binary});\n",
       "            fig.send_message(\"send_image_mode\", {});\n",
       "            if (mpl.ratio != 1) {\n",
       "                fig.send_message(\"set_dpi_ratio\", {'dpi_ratio': mpl.ratio});\n",
       "            }\n",
       "            fig.send_message(\"refresh\", {});\n",
       "        }\n",
       "\n",
       "    this.imageObj.onload = function() {\n",
       "            if (fig.image_mode == 'full') {\n",
       "                // Full images could contain transparency (where diff images\n",
       "                // almost always do), so we need to clear the canvas so that\n",
       "                // there is no ghosting.\n",
       "                fig.context.clearRect(0, 0, fig.canvas.width, fig.canvas.height);\n",
       "            }\n",
       "            fig.context.drawImage(fig.imageObj, 0, 0);\n",
       "        };\n",
       "\n",
       "    this.imageObj.onunload = function() {\n",
       "        fig.ws.close();\n",
       "    }\n",
       "\n",
       "    this.ws.onmessage = this._make_on_message_function(this);\n",
       "\n",
       "    this.ondownload = ondownload;\n",
       "}\n",
       "\n",
       "mpl.figure.prototype._init_header = function() {\n",
       "    var titlebar = $(\n",
       "        '<div class=\"ui-dialog-titlebar ui-widget-header ui-corner-all ' +\n",
       "        'ui-helper-clearfix\"/>');\n",
       "    var titletext = $(\n",
       "        '<div class=\"ui-dialog-title\" style=\"width: 100%; ' +\n",
       "        'text-align: center; padding: 3px;\"/>');\n",
       "    titlebar.append(titletext)\n",
       "    this.root.append(titlebar);\n",
       "    this.header = titletext[0];\n",
       "}\n",
       "\n",
       "\n",
       "\n",
       "mpl.figure.prototype._canvas_extra_style = function(canvas_div) {\n",
       "\n",
       "}\n",
       "\n",
       "\n",
       "mpl.figure.prototype._root_extra_style = function(canvas_div) {\n",
       "\n",
       "}\n",
       "\n",
       "mpl.figure.prototype._init_canvas = function() {\n",
       "    var fig = this;\n",
       "\n",
       "    var canvas_div = $('<div/>');\n",
       "\n",
       "    canvas_div.attr('style', 'position: relative; clear: both; outline: 0');\n",
       "\n",
       "    function canvas_keyboard_event(event) {\n",
       "        return fig.key_event(event, event['data']);\n",
       "    }\n",
       "\n",
       "    canvas_div.keydown('key_press', canvas_keyboard_event);\n",
       "    canvas_div.keyup('key_release', canvas_keyboard_event);\n",
       "    this.canvas_div = canvas_div\n",
       "    this._canvas_extra_style(canvas_div)\n",
       "    this.root.append(canvas_div);\n",
       "\n",
       "    var canvas = $('<canvas/>');\n",
       "    canvas.addClass('mpl-canvas');\n",
       "    canvas.attr('style', \"left: 0; top: 0; z-index: 0; outline: 0\")\n",
       "\n",
       "    this.canvas = canvas[0];\n",
       "    this.context = canvas[0].getContext(\"2d\");\n",
       "\n",
       "    var backingStore = this.context.backingStorePixelRatio ||\n",
       "\tthis.context.webkitBackingStorePixelRatio ||\n",
       "\tthis.context.mozBackingStorePixelRatio ||\n",
       "\tthis.context.msBackingStorePixelRatio ||\n",
       "\tthis.context.oBackingStorePixelRatio ||\n",
       "\tthis.context.backingStorePixelRatio || 1;\n",
       "\n",
       "    mpl.ratio = (window.devicePixelRatio || 1) / backingStore;\n",
       "\n",
       "    var rubberband = $('<canvas/>');\n",
       "    rubberband.attr('style', \"position: absolute; left: 0; top: 0; z-index: 1;\")\n",
       "\n",
       "    var pass_mouse_events = true;\n",
       "\n",
       "    canvas_div.resizable({\n",
       "        start: function(event, ui) {\n",
       "            pass_mouse_events = false;\n",
       "        },\n",
       "        resize: function(event, ui) {\n",
       "            fig.request_resize(ui.size.width, ui.size.height);\n",
       "        },\n",
       "        stop: function(event, ui) {\n",
       "            pass_mouse_events = true;\n",
       "            fig.request_resize(ui.size.width, ui.size.height);\n",
       "        },\n",
       "    });\n",
       "\n",
       "    function mouse_event_fn(event) {\n",
       "        if (pass_mouse_events)\n",
       "            return fig.mouse_event(event, event['data']);\n",
       "    }\n",
       "\n",
       "    rubberband.mousedown('button_press', mouse_event_fn);\n",
       "    rubberband.mouseup('button_release', mouse_event_fn);\n",
       "    // Throttle sequential mouse events to 1 every 20ms.\n",
       "    rubberband.mousemove('motion_notify', mouse_event_fn);\n",
       "\n",
       "    rubberband.mouseenter('figure_enter', mouse_event_fn);\n",
       "    rubberband.mouseleave('figure_leave', mouse_event_fn);\n",
       "\n",
       "    canvas_div.on(\"wheel\", function (event) {\n",
       "        event = event.originalEvent;\n",
       "        event['data'] = 'scroll'\n",
       "        if (event.deltaY < 0) {\n",
       "            event.step = 1;\n",
       "        } else {\n",
       "            event.step = -1;\n",
       "        }\n",
       "        mouse_event_fn(event);\n",
       "    });\n",
       "\n",
       "    canvas_div.append(canvas);\n",
       "    canvas_div.append(rubberband);\n",
       "\n",
       "    this.rubberband = rubberband;\n",
       "    this.rubberband_canvas = rubberband[0];\n",
       "    this.rubberband_context = rubberband[0].getContext(\"2d\");\n",
       "    this.rubberband_context.strokeStyle = \"#000000\";\n",
       "\n",
       "    this._resize_canvas = function(width, height) {\n",
       "        // Keep the size of the canvas, canvas container, and rubber band\n",
       "        // canvas in synch.\n",
       "        canvas_div.css('width', width)\n",
       "        canvas_div.css('height', height)\n",
       "\n",
       "        canvas.attr('width', width * mpl.ratio);\n",
       "        canvas.attr('height', height * mpl.ratio);\n",
       "        canvas.attr('style', 'width: ' + width + 'px; height: ' + height + 'px;');\n",
       "\n",
       "        rubberband.attr('width', width);\n",
       "        rubberband.attr('height', height);\n",
       "    }\n",
       "\n",
       "    // Set the figure to an initial 600x600px, this will subsequently be updated\n",
       "    // upon first draw.\n",
       "    this._resize_canvas(600, 600);\n",
       "\n",
       "    // Disable right mouse context menu.\n",
       "    $(this.rubberband_canvas).bind(\"contextmenu\",function(e){\n",
       "        return false;\n",
       "    });\n",
       "\n",
       "    function set_focus () {\n",
       "        canvas.focus();\n",
       "        canvas_div.focus();\n",
       "    }\n",
       "\n",
       "    window.setTimeout(set_focus, 100);\n",
       "}\n",
       "\n",
       "mpl.figure.prototype._init_toolbar = function() {\n",
       "    var fig = this;\n",
       "\n",
       "    var nav_element = $('<div/>')\n",
       "    nav_element.attr('style', 'width: 100%');\n",
       "    this.root.append(nav_element);\n",
       "\n",
       "    // Define a callback function for later on.\n",
       "    function toolbar_event(event) {\n",
       "        return fig.toolbar_button_onclick(event['data']);\n",
       "    }\n",
       "    function toolbar_mouse_event(event) {\n",
       "        return fig.toolbar_button_onmouseover(event['data']);\n",
       "    }\n",
       "\n",
       "    for(var toolbar_ind in mpl.toolbar_items) {\n",
       "        var name = mpl.toolbar_items[toolbar_ind][0];\n",
       "        var tooltip = mpl.toolbar_items[toolbar_ind][1];\n",
       "        var image = mpl.toolbar_items[toolbar_ind][2];\n",
       "        var method_name = mpl.toolbar_items[toolbar_ind][3];\n",
       "\n",
       "        if (!name) {\n",
       "            // put a spacer in here.\n",
       "            continue;\n",
       "        }\n",
       "        var button = $('<button/>');\n",
       "        button.addClass('ui-button ui-widget ui-state-default ui-corner-all ' +\n",
       "                        'ui-button-icon-only');\n",
       "        button.attr('role', 'button');\n",
       "        button.attr('aria-disabled', 'false');\n",
       "        button.click(method_name, toolbar_event);\n",
       "        button.mouseover(tooltip, toolbar_mouse_event);\n",
       "\n",
       "        var icon_img = $('<span/>');\n",
       "        icon_img.addClass('ui-button-icon-primary ui-icon');\n",
       "        icon_img.addClass(image);\n",
       "        icon_img.addClass('ui-corner-all');\n",
       "\n",
       "        var tooltip_span = $('<span/>');\n",
       "        tooltip_span.addClass('ui-button-text');\n",
       "        tooltip_span.html(tooltip);\n",
       "\n",
       "        button.append(icon_img);\n",
       "        button.append(tooltip_span);\n",
       "\n",
       "        nav_element.append(button);\n",
       "    }\n",
       "\n",
       "    var fmt_picker_span = $('<span/>');\n",
       "\n",
       "    var fmt_picker = $('<select/>');\n",
       "    fmt_picker.addClass('mpl-toolbar-option ui-widget ui-widget-content');\n",
       "    fmt_picker_span.append(fmt_picker);\n",
       "    nav_element.append(fmt_picker_span);\n",
       "    this.format_dropdown = fmt_picker[0];\n",
       "\n",
       "    for (var ind in mpl.extensions) {\n",
       "        var fmt = mpl.extensions[ind];\n",
       "        var option = $(\n",
       "            '<option/>', {selected: fmt === mpl.default_extension}).html(fmt);\n",
       "        fmt_picker.append(option)\n",
       "    }\n",
       "\n",
       "    // Add hover states to the ui-buttons\n",
       "    $( \".ui-button\" ).hover(\n",
       "        function() { $(this).addClass(\"ui-state-hover\");},\n",
       "        function() { $(this).removeClass(\"ui-state-hover\");}\n",
       "    );\n",
       "\n",
       "    var status_bar = $('<span class=\"mpl-message\"/>');\n",
       "    nav_element.append(status_bar);\n",
       "    this.message = status_bar[0];\n",
       "}\n",
       "\n",
       "mpl.figure.prototype.request_resize = function(x_pixels, y_pixels) {\n",
       "    // Request matplotlib to resize the figure. Matplotlib will then trigger a resize in the client,\n",
       "    // which will in turn request a refresh of the image.\n",
       "    this.send_message('resize', {'width': x_pixels, 'height': y_pixels});\n",
       "}\n",
       "\n",
       "mpl.figure.prototype.send_message = function(type, properties) {\n",
       "    properties['type'] = type;\n",
       "    properties['figure_id'] = this.id;\n",
       "    this.ws.send(JSON.stringify(properties));\n",
       "}\n",
       "\n",
       "mpl.figure.prototype.send_draw_message = function() {\n",
       "    if (!this.waiting) {\n",
       "        this.waiting = true;\n",
       "        this.ws.send(JSON.stringify({type: \"draw\", figure_id: this.id}));\n",
       "    }\n",
       "}\n",
       "\n",
       "\n",
       "mpl.figure.prototype.handle_save = function(fig, msg) {\n",
       "    var format_dropdown = fig.format_dropdown;\n",
       "    var format = format_dropdown.options[format_dropdown.selectedIndex].value;\n",
       "    fig.ondownload(fig, format);\n",
       "}\n",
       "\n",
       "\n",
       "mpl.figure.prototype.handle_resize = function(fig, msg) {\n",
       "    var size = msg['size'];\n",
       "    if (size[0] != fig.canvas.width || size[1] != fig.canvas.height) {\n",
       "        fig._resize_canvas(size[0], size[1]);\n",
       "        fig.send_message(\"refresh\", {});\n",
       "    };\n",
       "}\n",
       "\n",
       "mpl.figure.prototype.handle_rubberband = function(fig, msg) {\n",
       "    var x0 = msg['x0'] / mpl.ratio;\n",
       "    var y0 = (fig.canvas.height - msg['y0']) / mpl.ratio;\n",
       "    var x1 = msg['x1'] / mpl.ratio;\n",
       "    var y1 = (fig.canvas.height - msg['y1']) / mpl.ratio;\n",
       "    x0 = Math.floor(x0) + 0.5;\n",
       "    y0 = Math.floor(y0) + 0.5;\n",
       "    x1 = Math.floor(x1) + 0.5;\n",
       "    y1 = Math.floor(y1) + 0.5;\n",
       "    var min_x = Math.min(x0, x1);\n",
       "    var min_y = Math.min(y0, y1);\n",
       "    var width = Math.abs(x1 - x0);\n",
       "    var height = Math.abs(y1 - y0);\n",
       "\n",
       "    fig.rubberband_context.clearRect(\n",
       "        0, 0, fig.canvas.width, fig.canvas.height);\n",
       "\n",
       "    fig.rubberband_context.strokeRect(min_x, min_y, width, height);\n",
       "}\n",
       "\n",
       "mpl.figure.prototype.handle_figure_label = function(fig, msg) {\n",
       "    // Updates the figure title.\n",
       "    fig.header.textContent = msg['label'];\n",
       "}\n",
       "\n",
       "mpl.figure.prototype.handle_cursor = function(fig, msg) {\n",
       "    var cursor = msg['cursor'];\n",
       "    switch(cursor)\n",
       "    {\n",
       "    case 0:\n",
       "        cursor = 'pointer';\n",
       "        break;\n",
       "    case 1:\n",
       "        cursor = 'default';\n",
       "        break;\n",
       "    case 2:\n",
       "        cursor = 'crosshair';\n",
       "        break;\n",
       "    case 3:\n",
       "        cursor = 'move';\n",
       "        break;\n",
       "    }\n",
       "    fig.rubberband_canvas.style.cursor = cursor;\n",
       "}\n",
       "\n",
       "mpl.figure.prototype.handle_message = function(fig, msg) {\n",
       "    fig.message.textContent = msg['message'];\n",
       "}\n",
       "\n",
       "mpl.figure.prototype.handle_draw = function(fig, msg) {\n",
       "    // Request the server to send over a new figure.\n",
       "    fig.send_draw_message();\n",
       "}\n",
       "\n",
       "mpl.figure.prototype.handle_image_mode = function(fig, msg) {\n",
       "    fig.image_mode = msg['mode'];\n",
       "}\n",
       "\n",
       "mpl.figure.prototype.updated_canvas_event = function() {\n",
       "    // Called whenever the canvas gets updated.\n",
       "    this.send_message(\"ack\", {});\n",
       "}\n",
       "\n",
       "// A function to construct a web socket function for onmessage handling.\n",
       "// Called in the figure constructor.\n",
       "mpl.figure.prototype._make_on_message_function = function(fig) {\n",
       "    return function socket_on_message(evt) {\n",
       "        if (evt.data instanceof Blob) {\n",
       "            /* FIXME: We get \"Resource interpreted as Image but\n",
       "             * transferred with MIME type text/plain:\" errors on\n",
       "             * Chrome.  But how to set the MIME type?  It doesn't seem\n",
       "             * to be part of the websocket stream */\n",
       "            evt.data.type = \"image/png\";\n",
       "\n",
       "            /* Free the memory for the previous frames */\n",
       "            if (fig.imageObj.src) {\n",
       "                (window.URL || window.webkitURL).revokeObjectURL(\n",
       "                    fig.imageObj.src);\n",
       "            }\n",
       "\n",
       "            fig.imageObj.src = (window.URL || window.webkitURL).createObjectURL(\n",
       "                evt.data);\n",
       "            fig.updated_canvas_event();\n",
       "            fig.waiting = false;\n",
       "            return;\n",
       "        }\n",
       "        else if (typeof evt.data === 'string' && evt.data.slice(0, 21) == \"data:image/png;base64\") {\n",
       "            fig.imageObj.src = evt.data;\n",
       "            fig.updated_canvas_event();\n",
       "            fig.waiting = false;\n",
       "            return;\n",
       "        }\n",
       "\n",
       "        var msg = JSON.parse(evt.data);\n",
       "        var msg_type = msg['type'];\n",
       "\n",
       "        // Call the  \"handle_{type}\" callback, which takes\n",
       "        // the figure and JSON message as its only arguments.\n",
       "        try {\n",
       "            var callback = fig[\"handle_\" + msg_type];\n",
       "        } catch (e) {\n",
       "            console.log(\"No handler for the '\" + msg_type + \"' message type: \", msg);\n",
       "            return;\n",
       "        }\n",
       "\n",
       "        if (callback) {\n",
       "            try {\n",
       "                // console.log(\"Handling '\" + msg_type + \"' message: \", msg);\n",
       "                callback(fig, msg);\n",
       "            } catch (e) {\n",
       "                console.log(\"Exception inside the 'handler_\" + msg_type + \"' callback:\", e, e.stack, msg);\n",
       "            }\n",
       "        }\n",
       "    };\n",
       "}\n",
       "\n",
       "// from http://stackoverflow.com/questions/1114465/getting-mouse-location-in-canvas\n",
       "mpl.findpos = function(e) {\n",
       "    //this section is from http://www.quirksmode.org/js/events_properties.html\n",
       "    var targ;\n",
       "    if (!e)\n",
       "        e = window.event;\n",
       "    if (e.target)\n",
       "        targ = e.target;\n",
       "    else if (e.srcElement)\n",
       "        targ = e.srcElement;\n",
       "    if (targ.nodeType == 3) // defeat Safari bug\n",
       "        targ = targ.parentNode;\n",
       "\n",
       "    // jQuery normalizes the pageX and pageY\n",
       "    // pageX,Y are the mouse positions relative to the document\n",
       "    // offset() returns the position of the element relative to the document\n",
       "    var x = e.pageX - $(targ).offset().left;\n",
       "    var y = e.pageY - $(targ).offset().top;\n",
       "\n",
       "    return {\"x\": x, \"y\": y};\n",
       "};\n",
       "\n",
       "/*\n",
       " * return a copy of an object with only non-object keys\n",
       " * we need this to avoid circular references\n",
       " * http://stackoverflow.com/a/24161582/3208463\n",
       " */\n",
       "function simpleKeys (original) {\n",
       "  return Object.keys(original).reduce(function (obj, key) {\n",
       "    if (typeof original[key] !== 'object')\n",
       "        obj[key] = original[key]\n",
       "    return obj;\n",
       "  }, {});\n",
       "}\n",
       "\n",
       "mpl.figure.prototype.mouse_event = function(event, name) {\n",
       "    var canvas_pos = mpl.findpos(event)\n",
       "\n",
       "    if (name === 'button_press')\n",
       "    {\n",
       "        this.canvas.focus();\n",
       "        this.canvas_div.focus();\n",
       "    }\n",
       "\n",
       "    var x = canvas_pos.x * mpl.ratio;\n",
       "    var y = canvas_pos.y * mpl.ratio;\n",
       "\n",
       "    this.send_message(name, {x: x, y: y, button: event.button,\n",
       "                             step: event.step,\n",
       "                             guiEvent: simpleKeys(event)});\n",
       "\n",
       "    /* This prevents the web browser from automatically changing to\n",
       "     * the text insertion cursor when the button is pressed.  We want\n",
       "     * to control all of the cursor setting manually through the\n",
       "     * 'cursor' event from matplotlib */\n",
       "    event.preventDefault();\n",
       "    return false;\n",
       "}\n",
       "\n",
       "mpl.figure.prototype._key_event_extra = function(event, name) {\n",
       "    // Handle any extra behaviour associated with a key event\n",
       "}\n",
       "\n",
       "mpl.figure.prototype.key_event = function(event, name) {\n",
       "\n",
       "    // Prevent repeat events\n",
       "    if (name == 'key_press')\n",
       "    {\n",
       "        if (event.which === this._key)\n",
       "            return;\n",
       "        else\n",
       "            this._key = event.which;\n",
       "    }\n",
       "    if (name == 'key_release')\n",
       "        this._key = null;\n",
       "\n",
       "    var value = '';\n",
       "    if (event.ctrlKey && event.which != 17)\n",
       "        value += \"ctrl+\";\n",
       "    if (event.altKey && event.which != 18)\n",
       "        value += \"alt+\";\n",
       "    if (event.shiftKey && event.which != 16)\n",
       "        value += \"shift+\";\n",
       "\n",
       "    value += 'k';\n",
       "    value += event.which.toString();\n",
       "\n",
       "    this._key_event_extra(event, name);\n",
       "\n",
       "    this.send_message(name, {key: value,\n",
       "                             guiEvent: simpleKeys(event)});\n",
       "    return false;\n",
       "}\n",
       "\n",
       "mpl.figure.prototype.toolbar_button_onclick = function(name) {\n",
       "    if (name == 'download') {\n",
       "        this.handle_save(this, null);\n",
       "    } else {\n",
       "        this.send_message(\"toolbar_button\", {name: name});\n",
       "    }\n",
       "};\n",
       "\n",
       "mpl.figure.prototype.toolbar_button_onmouseover = function(tooltip) {\n",
       "    this.message.textContent = tooltip;\n",
       "};\n",
       "mpl.toolbar_items = [[\"Home\", \"Reset original view\", \"fa fa-home icon-home\", \"home\"], [\"Back\", \"Back to  previous view\", \"fa fa-arrow-left icon-arrow-left\", \"back\"], [\"Forward\", \"Forward to next view\", \"fa fa-arrow-right icon-arrow-right\", \"forward\"], [\"\", \"\", \"\", \"\"], [\"Pan\", \"Pan axes with left mouse, zoom with right\", \"fa fa-arrows icon-move\", \"pan\"], [\"Zoom\", \"Zoom to rectangle\", \"fa fa-square-o icon-check-empty\", \"zoom\"], [\"\", \"\", \"\", \"\"], [\"Download\", \"Download plot\", \"fa fa-floppy-o icon-save\", \"download\"]];\n",
       "\n",
       "mpl.extensions = [\"eps\", \"jpeg\", \"pdf\", \"png\", \"ps\", \"raw\", \"svg\", \"tif\"];\n",
       "\n",
       "mpl.default_extension = \"png\";var comm_websocket_adapter = function(comm) {\n",
       "    // Create a \"websocket\"-like object which calls the given IPython comm\n",
       "    // object with the appropriate methods. Currently this is a non binary\n",
       "    // socket, so there is still some room for performance tuning.\n",
       "    var ws = {};\n",
       "\n",
       "    ws.close = function() {\n",
       "        comm.close()\n",
       "    };\n",
       "    ws.send = function(m) {\n",
       "        //console.log('sending', m);\n",
       "        comm.send(m);\n",
       "    };\n",
       "    // Register the callback with on_msg.\n",
       "    comm.on_msg(function(msg) {\n",
       "        //console.log('receiving', msg['content']['data'], msg);\n",
       "        // Pass the mpl event to the overridden (by mpl) onmessage function.\n",
       "        ws.onmessage(msg['content']['data'])\n",
       "    });\n",
       "    return ws;\n",
       "}\n",
       "\n",
       "mpl.mpl_figure_comm = function(comm, msg) {\n",
       "    // This is the function which gets called when the mpl process\n",
       "    // starts-up an IPython Comm through the \"matplotlib\" channel.\n",
       "\n",
       "    var id = msg.content.data.id;\n",
       "    // Get hold of the div created by the display call when the Comm\n",
       "    // socket was opened in Python.\n",
       "    var element = $(\"#\" + id);\n",
       "    var ws_proxy = comm_websocket_adapter(comm)\n",
       "\n",
       "    function ondownload(figure, format) {\n",
       "        window.open(figure.imageObj.src);\n",
       "    }\n",
       "\n",
       "    var fig = new mpl.figure(id, ws_proxy,\n",
       "                           ondownload,\n",
       "                           element.get(0));\n",
       "\n",
       "    // Call onopen now - mpl needs it, as it is assuming we've passed it a real\n",
       "    // web socket which is closed, not our websocket->open comm proxy.\n",
       "    ws_proxy.onopen();\n",
       "\n",
       "    fig.parent_element = element.get(0);\n",
       "    fig.cell_info = mpl.find_output_cell(\"<div id='\" + id + \"'></div>\");\n",
       "    if (!fig.cell_info) {\n",
       "        console.error(\"Failed to find cell for figure\", id, fig);\n",
       "        return;\n",
       "    }\n",
       "\n",
       "    var output_index = fig.cell_info[2]\n",
       "    var cell = fig.cell_info[0];\n",
       "\n",
       "};\n",
       "\n",
       "mpl.figure.prototype.handle_close = function(fig, msg) {\n",
       "    var width = fig.canvas.width/mpl.ratio\n",
       "    fig.root.unbind('remove')\n",
       "\n",
       "    // Update the output cell to use the data from the current canvas.\n",
       "    fig.push_to_output();\n",
       "    var dataURL = fig.canvas.toDataURL();\n",
       "    // Re-enable the keyboard manager in IPython - without this line, in FF,\n",
       "    // the notebook keyboard shortcuts fail.\n",
       "    IPython.keyboard_manager.enable()\n",
       "    $(fig.parent_element).html('<img src=\"' + dataURL + '\" width=\"' + width + '\">');\n",
       "    fig.close_ws(fig, msg);\n",
       "}\n",
       "\n",
       "mpl.figure.prototype.close_ws = function(fig, msg){\n",
       "    fig.send_message('closing', msg);\n",
       "    // fig.ws.close()\n",
       "}\n",
       "\n",
       "mpl.figure.prototype.push_to_output = function(remove_interactive) {\n",
       "    // Turn the data on the canvas into data in the output cell.\n",
       "    var width = this.canvas.width/mpl.ratio\n",
       "    var dataURL = this.canvas.toDataURL();\n",
       "    this.cell_info[1]['text/html'] = '<img src=\"' + dataURL + '\" width=\"' + width + '\">';\n",
       "}\n",
       "\n",
       "mpl.figure.prototype.updated_canvas_event = function() {\n",
       "    // Tell IPython that the notebook contents must change.\n",
       "    IPython.notebook.set_dirty(true);\n",
       "    this.send_message(\"ack\", {});\n",
       "    var fig = this;\n",
       "    // Wait a second, then push the new image to the DOM so\n",
       "    // that it is saved nicely (might be nice to debounce this).\n",
       "    setTimeout(function () { fig.push_to_output() }, 1000);\n",
       "}\n",
       "\n",
       "mpl.figure.prototype._init_toolbar = function() {\n",
       "    var fig = this;\n",
       "\n",
       "    var nav_element = $('<div/>')\n",
       "    nav_element.attr('style', 'width: 100%');\n",
       "    this.root.append(nav_element);\n",
       "\n",
       "    // Define a callback function for later on.\n",
       "    function toolbar_event(event) {\n",
       "        return fig.toolbar_button_onclick(event['data']);\n",
       "    }\n",
       "    function toolbar_mouse_event(event) {\n",
       "        return fig.toolbar_button_onmouseover(event['data']);\n",
       "    }\n",
       "\n",
       "    for(var toolbar_ind in mpl.toolbar_items){\n",
       "        var name = mpl.toolbar_items[toolbar_ind][0];\n",
       "        var tooltip = mpl.toolbar_items[toolbar_ind][1];\n",
       "        var image = mpl.toolbar_items[toolbar_ind][2];\n",
       "        var method_name = mpl.toolbar_items[toolbar_ind][3];\n",
       "\n",
       "        if (!name) { continue; };\n",
       "\n",
       "        var button = $('<button class=\"btn btn-default\" href=\"#\" title=\"' + name + '\"><i class=\"fa ' + image + ' fa-lg\"></i></button>');\n",
       "        button.click(method_name, toolbar_event);\n",
       "        button.mouseover(tooltip, toolbar_mouse_event);\n",
       "        nav_element.append(button);\n",
       "    }\n",
       "\n",
       "    // Add the status bar.\n",
       "    var status_bar = $('<span class=\"mpl-message\" style=\"text-align:right; float: right;\"/>');\n",
       "    nav_element.append(status_bar);\n",
       "    this.message = status_bar[0];\n",
       "\n",
       "    // Add the close button to the window.\n",
       "    var buttongrp = $('<div class=\"btn-group inline pull-right\"></div>');\n",
       "    var button = $('<button class=\"btn btn-mini btn-primary\" href=\"#\" title=\"Stop Interaction\"><i class=\"fa fa-power-off icon-remove icon-large\"></i></button>');\n",
       "    button.click(function (evt) { fig.handle_close(fig, {}); } );\n",
       "    button.mouseover('Stop Interaction', toolbar_mouse_event);\n",
       "    buttongrp.append(button);\n",
       "    var titlebar = this.root.find($('.ui-dialog-titlebar'));\n",
       "    titlebar.prepend(buttongrp);\n",
       "}\n",
       "\n",
       "mpl.figure.prototype._root_extra_style = function(el){\n",
       "    var fig = this\n",
       "    el.on(\"remove\", function(){\n",
       "\tfig.close_ws(fig, {});\n",
       "    });\n",
       "}\n",
       "\n",
       "mpl.figure.prototype._canvas_extra_style = function(el){\n",
       "    // this is important to make the div 'focusable\n",
       "    el.attr('tabindex', 0)\n",
       "    // reach out to IPython and tell the keyboard manager to turn it's self\n",
       "    // off when our div gets focus\n",
       "\n",
       "    // location in version 3\n",
       "    if (IPython.notebook.keyboard_manager) {\n",
       "        IPython.notebook.keyboard_manager.register_events(el);\n",
       "    }\n",
       "    else {\n",
       "        // location in version 2\n",
       "        IPython.keyboard_manager.register_events(el);\n",
       "    }\n",
       "\n",
       "}\n",
       "\n",
       "mpl.figure.prototype._key_event_extra = function(event, name) {\n",
       "    var manager = IPython.notebook.keyboard_manager;\n",
       "    if (!manager)\n",
       "        manager = IPython.keyboard_manager;\n",
       "\n",
       "    // Check for shift+enter\n",
       "    if (event.shiftKey && event.which == 13) {\n",
       "        this.canvas_div.blur();\n",
       "        event.shiftKey = false;\n",
       "        // Send a \"J\" for go to next cell\n",
       "        event.which = 74;\n",
       "        event.keyCode = 74;\n",
       "        manager.command_mode();\n",
       "        manager.handle_keydown(event);\n",
       "    }\n",
       "}\n",
       "\n",
       "mpl.figure.prototype.handle_save = function(fig, msg) {\n",
       "    fig.ondownload(fig, null);\n",
       "}\n",
       "\n",
       "\n",
       "mpl.find_output_cell = function(html_output) {\n",
       "    // Return the cell and output element which can be found *uniquely* in the notebook.\n",
       "    // Note - this is a bit hacky, but it is done because the \"notebook_saving.Notebook\"\n",
       "    // IPython event is triggered only after the cells have been serialised, which for\n",
       "    // our purposes (turning an active figure into a static one), is too late.\n",
       "    var cells = IPython.notebook.get_cells();\n",
       "    var ncells = cells.length;\n",
       "    for (var i=0; i<ncells; i++) {\n",
       "        var cell = cells[i];\n",
       "        if (cell.cell_type === 'code'){\n",
       "            for (var j=0; j<cell.output_area.outputs.length; j++) {\n",
       "                var data = cell.output_area.outputs[j];\n",
       "                if (data.data) {\n",
       "                    // IPython >= 3 moved mimebundle to data attribute of output\n",
       "                    data = data.data;\n",
       "                }\n",
       "                if (data['text/html'] == html_output) {\n",
       "                    return [cell, data, j];\n",
       "                }\n",
       "            }\n",
       "        }\n",
       "    }\n",
       "}\n",
       "\n",
       "// Register the function which deals with the matplotlib target/channel.\n",
       "// The kernel may be null if the page has been refreshed.\n",
       "if (IPython.notebook.kernel != null) {\n",
       "    IPython.notebook.kernel.comm_manager.register_target('matplotlib', mpl.mpl_figure_comm);\n",
       "}\n"
      ],
      "text/plain": [
       "<IPython.core.display.Javascript object>"
      ]
     },
     "metadata": {},
     "output_type": "display_data"
    },
    {
     "data": {
      "text/html": [
       "<img src=\"data:image/png;base64,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\" width=\"640\">"
      ],
      "text/plain": [
       "<IPython.core.display.HTML object>"
      ]
     },
     "metadata": {},
     "output_type": "display_data"
    },
    {
     "data": {
      "text/plain": [
       "([<matplotlib.axis.YTick at 0x23acead6be0>,\n",
       "  <matplotlib.axis.YTick at 0x23aceae9f60>,\n",
       "  <matplotlib.axis.YTick at 0x23ace8f36a0>,\n",
       "  <matplotlib.axis.YTick at 0x23ace27b9e8>,\n",
       "  <matplotlib.axis.YTick at 0x23ace27bf60>,\n",
       "  <matplotlib.axis.YTick at 0x23acdfeb518>,\n",
       "  <matplotlib.axis.YTick at 0x23acdfeb780>,\n",
       "  <matplotlib.axis.YTick at 0x23ace27bc18>,\n",
       "  <matplotlib.axis.YTick at 0x23acdfeb198>,\n",
       "  <matplotlib.axis.YTick at 0x23acde0a0b8>,\n",
       "  <matplotlib.axis.YTick at 0x23acde0ab70>,\n",
       "  <matplotlib.axis.YTick at 0x23acde0acf8>,\n",
       "  <matplotlib.axis.YTick at 0x23acdfdeda0>,\n",
       "  <matplotlib.axis.YTick at 0x23acdfdeef0>,\n",
       "  <matplotlib.axis.YTick at 0x23acdfde860>,\n",
       "  <matplotlib.axis.YTick at 0x23acd25cf28>,\n",
       "  <matplotlib.axis.YTick at 0x23acdfdee80>,\n",
       "  <matplotlib.axis.YTick at 0x23acde0a908>,\n",
       "  <matplotlib.axis.YTick at 0x23acdfeb358>,\n",
       "  <matplotlib.axis.YTick at 0x23acdaac828>,\n",
       "  <matplotlib.axis.YTick at 0x23acdaac8d0>,\n",
       "  <matplotlib.axis.YTick at 0x23acdabf198>,\n",
       "  <matplotlib.axis.YTick at 0x23acdabf8d0>,\n",
       "  <matplotlib.axis.YTick at 0x23acdabfe48>,\n",
       "  <matplotlib.axis.YTick at 0x23acdb2a710>,\n",
       "  <matplotlib.axis.YTick at 0x23acdb2a5c0>,\n",
       "  <matplotlib.axis.YTick at 0x23acdabf5c0>,\n",
       "  <matplotlib.axis.YTick at 0x23acdfeb5f8>,\n",
       "  <matplotlib.axis.YTick at 0x23acdb2a128>,\n",
       "  <matplotlib.axis.YTick at 0x23acdb2ac88>,\n",
       "  <matplotlib.axis.YTick at 0x23ace1750b8>,\n",
       "  <matplotlib.axis.YTick at 0x23ace0e1e10>,\n",
       "  <matplotlib.axis.YTick at 0x23acdcc25c0>,\n",
       "  <matplotlib.axis.YTick at 0x23acdcc2fd0>,\n",
       "  <matplotlib.axis.YTick at 0x23acdcc2208>,\n",
       "  <matplotlib.axis.YTick at 0x23acdcc2400>,\n",
       "  <matplotlib.axis.YTick at 0x23ace1755c0>,\n",
       "  <matplotlib.axis.YTick at 0x23acdabf940>,\n",
       "  <matplotlib.axis.YTick at 0x23ace261390>,\n",
       "  <matplotlib.axis.YTick at 0x23ace261f28>,\n",
       "  <matplotlib.axis.YTick at 0x23ace07b588>,\n",
       "  <matplotlib.axis.YTick at 0x23acdcce4e0>,\n",
       "  <matplotlib.axis.YTick at 0x23acdcaab70>],\n",
       " <a list of 43 Text yticklabel objects>)"
      ]
     },
     "execution_count": 110,
     "metadata": {},
     "output_type": "execute_result"
    }
   ],
   "source": [
    "%matplotlib notebook\n",
    "\n",
    "y_list = forest.feature_importances_\n",
    "y_pos = np.arange(len(y_list))\n",
    "plt.barh(y_pos, y_list, align='center', alpha=0.4)\n",
    "plt.yticks(y_pos)"
   ]
  },
  {
   "cell_type": "markdown",
   "metadata": {},
   "source": [
    "Running ensemble techniques, using soft voting classifier between Logistic Regression and Decision Trees. Here the accuravy further increases "
   ]
  },
  {
   "cell_type": "code",
   "execution_count": 111,
   "metadata": {},
   "outputs": [
    {
     "name": "stdout",
     "output_type": "stream",
     "text": [
      "LogisticRegression 0.8517290092746146\n",
      "DecisionTreeClassifier 0.85283459246975\n",
      "VotingClassifier 0.8539401756648854\n"
     ]
    },
    {
     "name": "stderr",
     "output_type": "stream",
     "text": [
      "C:\\ProgramData\\Anaconda3\\lib\\site-packages\\sklearn\\preprocessing\\label.py:151: DeprecationWarning: The truth value of an empty array is ambiguous. Returning False, but in future this will result in an error. Use `array.size > 0` to check that an array is not empty.\n",
      "  if diff:\n"
     ]
    }
   ],
   "source": [
    "from sklearn.ensemble import VotingClassifier\n",
    "log_clf = LogisticRegression(penalty='l2',C=10)\n",
    "log_clf.fit(X_train, y_train)\n",
    "dt_clf = DecisionTreeClassifier(max_depth =10,random_state=25)\n",
    "dt_clf.fit(X_train, y_train)\n",
    "\n",
    "\n",
    "voting_clf = VotingClassifier(estimators=[('lr', log_clf), ('dt', dt_clf)], voting='soft')\n",
    "voting_clf.fit(X_train, y_train)\n",
    "\n",
    "from sklearn.metrics import accuracy_score\n",
    "for clf in (log_clf, dt_clf, voting_clf):\n",
    "    clf.fit(X_train, y_train)\n",
    "    y_pred = clf.predict(X_test)\n",
    "    print(clf.__class__.__name__, accuracy_score(y_test, y_pred))\n"
   ]
  },
  {
   "cell_type": "markdown",
   "metadata": {},
   "source": [
    "For bagging classifier, I have used decision trees with the hyperparameters which we got as best in decision trees. But here, the accuracy has reduced"
   ]
  },
  {
   "cell_type": "code",
   "execution_count": 112,
   "metadata": {},
   "outputs": [],
   "source": [
    "from sklearn.ensemble import BaggingClassifier\n",
    "\n",
    "\n",
    "dt_clf = DecisionTreeClassifier(random_state=25)\n",
    "bag_clf = BaggingClassifier(dt_clf, n_estimators=400, max_samples=100, bootstrap=True, n_jobs=-1, random_state=25)\n",
    "\n",
    "bag_clf.fit(X_train, y_train)\n",
    "y_pred = bag_clf.predict(X_test)"
   ]
  },
  {
   "cell_type": "code",
   "execution_count": 113,
   "metadata": {},
   "outputs": [
    {
     "name": "stdout",
     "output_type": "stream",
     "text": [
      "0.8528960137583687\n"
     ]
    }
   ],
   "source": [
    "from  sklearn.metrics import accuracy_score\n",
    "print(accuracy_score(y_test, y_pred))"
   ]
  },
  {
   "cell_type": "code",
   "execution_count": 114,
   "metadata": {},
   "outputs": [
    {
     "name": "stdout",
     "output_type": "stream",
     "text": [
      "Train score: 0.85\n",
      "Test score: 0.85\n"
     ]
    }
   ],
   "source": [
    "bag_clf.fit(X_train, y_train)\n",
    "print('Train score: {:.2f}'.format(bag_clf.score(X_train, y_train)))\n",
    "print('Test score: {:.2f}'.format(bag_clf.score(X_test, y_test)))"
   ]
  },
  {
   "cell_type": "code",
   "execution_count": 115,
   "metadata": {},
   "outputs": [
    {
     "name": "stdout",
     "output_type": "stream",
     "text": [
      "0.7947300534365211\n"
     ]
    }
   ],
   "source": [
    "tree_clf = DecisionTreeClassifier(random_state=0)\n",
    "tree_clf.fit(X_train, y_train)\n",
    "y_pred_tree = tree_clf.predict(X_test)\n",
    "\n",
    "print(accuracy_score(y_test, y_pred_tree))"
   ]
  },
  {
   "cell_type": "markdown",
   "metadata": {},
   "source": [
    "Applying gradeint boosting, with grid search, the the accuracy has become better"
   ]
  },
  {
   "cell_type": "code",
   "execution_count": 116,
   "metadata": {},
   "outputs": [
    {
     "data": {
      "text/plain": [
       "GridSearchCV(cv=10, error_score='raise',\n",
       "       estimator=GradientBoostingClassifier(criterion='friedman_mse', init=None,\n",
       "              learning_rate=0.1, loss='deviance', max_depth=3,\n",
       "              max_features=None, max_leaf_nodes=None,\n",
       "              min_impurity_decrease=0.0, min_impurity_split=None,\n",
       "              min_samples_leaf=1, min_samples_split=2,\n",
       "              min_weight_fraction_leaf=0.0, n_estimators=100,\n",
       "              presort='auto', random_state=25, subsample=1.0, verbose=0,\n",
       "              warm_start=False),\n",
       "       fit_params=None, iid=True, n_jobs=1,\n",
       "       param_grid={'n_estimators': [2, 4, 8], 'max_depth': [2, 4, 6], 'learning_rate': [0.1, 1, 10]},\n",
       "       pre_dispatch='2*n_jobs', refit=True, return_train_score='warn',\n",
       "       scoring='accuracy', verbose=0)"
      ]
     },
     "execution_count": 116,
     "metadata": {},
     "output_type": "execute_result"
    }
   ],
   "source": [
    "from  sklearn.ensemble import GradientBoostingClassifier\n",
    "param_grid = {'n_estimators': [2,4,8],'max_depth': [2, 4, 6], 'learning_rate' :[0.1,1,10] }\n",
    "\n",
    "grid_gbcl = GridSearchCV(GradientBoostingClassifier( random_state=25), param_grid, cv=10, scoring = 'accuracy')\n",
    "\n",
    "grid_gbcl.fit(X_train,y_train)"
   ]
  },
  {
   "cell_type": "code",
   "execution_count": 117,
   "metadata": {},
   "outputs": [
    {
     "name": "stdout",
     "output_type": "stream",
     "text": [
      "Train score: 0.87\n",
      "Test score: 0.85\n"
     ]
    }
   ],
   "source": [
    "print('Train score: {:.2f}'.format(grid_gbcl.score(X_train, y_train)))\n",
    "print('Test score: {:.2f}'.format(grid_gbcl.score(X_test, y_test)))"
   ]
  }
 ],
 "metadata": {
  "kernelspec": {
   "display_name": "Python 3",
   "language": "python",
   "name": "python3"
  },
  "language_info": {
   "codemirror_mode": {
    "name": "ipython",
    "version": 3
   },
   "file_extension": ".py",
   "mimetype": "text/x-python",
   "name": "python",
   "nbconvert_exporter": "python",
   "pygments_lexer": "ipython3",
   "version": "3.6.5"
  }
 },
 "nbformat": 4,
 "nbformat_minor": 2
}
